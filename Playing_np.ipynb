{
 "cells": [
  {
   "cell_type": "markdown",
   "id": "d0d4a2ef",
   "metadata": {},
   "source": [
    "### Package Imports"
   ]
  },
  {
   "cell_type": "code",
   "execution_count": 27,
   "id": "dbd96293",
   "metadata": {
    "ExecuteTime": {
     "end_time": "2023-11-29T10:46:08.542220506Z",
     "start_time": "2023-11-29T10:46:08.462119247Z"
    }
   },
   "outputs": [],
   "source": [
    "import numpy as np\n",
    "from numpy.random import default_rng"
   ]
  },
  {
   "cell_type": "markdown",
   "id": "3a5e9bd3",
   "metadata": {},
   "source": [
    "# Assignment 1: Array Basics\n",
    "\n",
    "Hi there,\n",
    "\n",
    "Can you import Numpy and convert the following list comprehension (I just learned about comprehensions in an awesome course by Maven) into an array?\n",
    "\n",
    "Once you've done that report the following about the array:\n",
    "* The number of dimensions \n",
    "* The shape\n",
    "* The number of elements in the array\n",
    "* The type of data contained inside"
   ]
  },
  {
   "cell_type": "code",
   "execution_count": 8,
   "id": "6d3f8d99",
   "metadata": {
    "ExecuteTime": {
     "end_time": "2023-11-29T10:31:10.603066293Z",
     "start_time": "2023-11-29T10:31:09.763539588Z"
    }
   },
   "outputs": [
    {
     "data": {
      "text/plain": "array([ 10,  20,  30,  40,  50,  60,  70,  80,  90, 100])"
     },
     "execution_count": 8,
     "metadata": {},
     "output_type": "execute_result"
    }
   ],
   "source": [
    "my_list = [x * 10 for x in range(1, 11)]\n",
    "array = np.array(my_list)\n",
    "array"
   ]
  },
  {
   "cell_type": "code",
   "execution_count": 9,
   "outputs": [
    {
     "data": {
      "text/plain": "1"
     },
     "execution_count": 9,
     "metadata": {},
     "output_type": "execute_result"
    }
   ],
   "source": [
    "array.ndim"
   ],
   "metadata": {
    "collapsed": false,
    "ExecuteTime": {
     "end_time": "2023-11-29T10:31:10.692051602Z",
     "start_time": "2023-11-29T10:31:09.780872301Z"
    }
   },
   "id": "2c8c4ec52cb42754"
  },
  {
   "cell_type": "code",
   "execution_count": 10,
   "outputs": [
    {
     "data": {
      "text/plain": "(10,)"
     },
     "execution_count": 10,
     "metadata": {},
     "output_type": "execute_result"
    }
   ],
   "source": [
    "array.shape"
   ],
   "metadata": {
    "collapsed": false,
    "ExecuteTime": {
     "end_time": "2023-11-29T10:31:10.891819317Z",
     "start_time": "2023-11-29T10:31:09.794980369Z"
    }
   },
   "id": "e7505a3d0612ed41"
  },
  {
   "cell_type": "code",
   "execution_count": 11,
   "outputs": [
    {
     "data": {
      "text/plain": "10"
     },
     "execution_count": 11,
     "metadata": {},
     "output_type": "execute_result"
    }
   ],
   "source": [
    "array.size"
   ],
   "metadata": {
    "collapsed": false,
    "ExecuteTime": {
     "end_time": "2023-11-29T10:31:11.072585997Z",
     "start_time": "2023-11-29T10:31:09.807926722Z"
    }
   },
   "id": "316b439b3c719b19"
  },
  {
   "cell_type": "code",
   "execution_count": 12,
   "outputs": [
    {
     "data": {
      "text/plain": "dtype('int64')"
     },
     "execution_count": 12,
     "metadata": {},
     "output_type": "execute_result"
    }
   ],
   "source": [
    "array.dtype"
   ],
   "metadata": {
    "collapsed": false,
    "ExecuteTime": {
     "end_time": "2023-11-29T10:31:11.255014364Z",
     "start_time": "2023-11-29T10:31:09.825264514Z"
    }
   },
   "id": "eb0492c985f9f6ff"
  },
  {
   "cell_type": "markdown",
   "id": "8ff92bb7",
   "metadata": {},
   "source": [
    "# Assignment 2: Array Creation\n",
    "\n",
    "Thanks for your help with the first piece - I'm starting to understand some of the key differences between base Python data types and NumPy arrays. \n",
    "\n",
    "Does NumPy have anything like the range() function from base Python?\n",
    "\n",
    "If so: \n",
    "* create the same array from assignment 1 using a NumPy function. \n",
    "* Make it 5 rows and 2 columns. \n",
    "* It's ok if the datatype is float or int."
   ]
  },
  {
   "cell_type": "code",
   "execution_count": 23,
   "id": "81839e0f",
   "metadata": {
    "ExecuteTime": {
     "end_time": "2023-11-29T10:43:02.239287078Z",
     "start_time": "2023-11-29T10:43:02.210628174Z"
    }
   },
   "outputs": [
    {
     "data": {
      "text/plain": "array([ 10.,  20.,  30.,  40.,  50.,  60.,  70.,  80.,  90., 100.])"
     },
     "execution_count": 23,
     "metadata": {},
     "output_type": "execute_result"
    }
   ],
   "source": [
    "new_array = np.linspace(10, 100, 10)\n",
    "new_array"
   ]
  },
  {
   "cell_type": "code",
   "execution_count": 24,
   "outputs": [
    {
     "data": {
      "text/plain": "array([[ 10.,  20.],\n       [ 30.,  40.],\n       [ 50.,  60.],\n       [ 70.,  80.],\n       [ 90., 100.]])"
     },
     "execution_count": 24,
     "metadata": {},
     "output_type": "execute_result"
    }
   ],
   "source": [
    "new_array.reshape(5,2)"
   ],
   "metadata": {
    "collapsed": false,
    "ExecuteTime": {
     "end_time": "2023-11-29T10:43:07.797342667Z",
     "start_time": "2023-11-29T10:43:07.762205682Z"
    }
   },
   "id": "53d8010da024b380"
  },
  {
   "cell_type": "markdown",
   "id": "e0849aa4",
   "metadata": {},
   "source": [
    "Looking good so far! One of our data scientists asked about random number generation in NumPy.\n",
    "\n",
    "Can you create a 3x3 array of random numbers between 0 and 1? Use a random state of 2022.\n",
    "\n",
    "Store the random array in a variable called `random_array`."
   ]
  },
  {
   "cell_type": "code",
   "execution_count": 14,
   "id": "a2e29128",
   "metadata": {
    "ExecuteTime": {
     "end_time": "2023-11-29T10:31:11.882164502Z",
     "start_time": "2023-11-29T10:31:09.849492103Z"
    }
   },
   "outputs": [
    {
     "data": {
      "text/plain": "array([[[0.28123321, 0.36377033, 0.21682198],\n        [0.78316277, 0.36311419, 0.69959623],\n        [0.31096912, 0.18640881, 0.62759364]]])"
     },
     "execution_count": 14,
     "metadata": {},
     "output_type": "execute_result"
    }
   ],
   "source": [
    "random_array = np.random.random((1, 3, 3))\n",
    "random_array"
   ]
  },
  {
   "cell_type": "code",
   "execution_count": 30,
   "outputs": [
    {
     "data": {
      "text/plain": "array([[0.24742606, 0.09299006, 0.61176337],\n       [0.06066207, 0.66103343, 0.75515778],\n       [0.1108689 , 0.04305584, 0.41441747]])"
     },
     "execution_count": 30,
     "metadata": {},
     "output_type": "execute_result"
    }
   ],
   "source": [
    "# Using random state of 2022\n",
    "rng = default_rng(2022)\n",
    "random_array = rng.random(9).reshape(3,3)\n",
    "random_array"
   ],
   "metadata": {
    "collapsed": false,
    "ExecuteTime": {
     "end_time": "2023-11-29T10:49:49.757979898Z",
     "start_time": "2023-11-29T10:49:49.427785905Z"
    }
   },
   "id": "1be2e05053b54678"
  },
  {
   "cell_type": "markdown",
   "id": "6927e8b0",
   "metadata": {},
   "source": [
    "# Assignment 3: Accessing Array Data\n",
    "\n",
    "\n",
    "Slice and index the `random_array` we created in the previous exercise. Perform the following:\n",
    "\n",
    "* Grab the first two 'rows' of the array\n",
    "* Grab the entire first column\n",
    "* Finally, grab the second selement of the third row.\n",
    "\n",
    "Thanks!\n"
   ]
  },
  {
   "cell_type": "code",
   "execution_count": 31,
   "outputs": [
    {
     "data": {
      "text/plain": "array([[0.24742606, 0.09299006, 0.61176337],\n       [0.06066207, 0.66103343, 0.75515778]])"
     },
     "execution_count": 31,
     "metadata": {},
     "output_type": "execute_result"
    }
   ],
   "source": [
    "random_array[:2,:]"
   ],
   "metadata": {
    "collapsed": false,
    "ExecuteTime": {
     "end_time": "2023-11-29T11:21:14.858919948Z",
     "start_time": "2023-11-29T11:21:14.751969608Z"
    }
   },
   "id": "20d83b35d4720f18"
  },
  {
   "cell_type": "code",
   "execution_count": 32,
   "outputs": [
    {
     "data": {
      "text/plain": "array([[0.24742606],\n       [0.06066207],\n       [0.1108689 ]])"
     },
     "execution_count": 32,
     "metadata": {},
     "output_type": "execute_result"
    }
   ],
   "source": [
    "random_array[:,:1]"
   ],
   "metadata": {
    "collapsed": false,
    "ExecuteTime": {
     "end_time": "2023-11-29T11:21:39.734003978Z",
     "start_time": "2023-11-29T11:21:39.632388988Z"
    }
   },
   "id": "ec75ce7fbd925b09"
  },
  {
   "cell_type": "code",
   "execution_count": 33,
   "outputs": [
    {
     "data": {
      "text/plain": "0.7551577777762973"
     },
     "execution_count": 33,
     "metadata": {},
     "output_type": "execute_result"
    }
   ],
   "source": [
    "random_array[1,2]"
   ],
   "metadata": {
    "collapsed": false,
    "ExecuteTime": {
     "end_time": "2023-11-29T11:22:11.165699813Z",
     "start_time": "2023-11-29T11:22:11.083520239Z"
    }
   },
   "id": "eaa4fe443f06b39a"
  },
  {
   "cell_type": "code",
   "execution_count": 15,
   "id": "62a4e208",
   "metadata": {
    "ExecuteTime": {
     "end_time": "2023-11-29T10:31:12.104825289Z",
     "start_time": "2023-11-29T10:31:09.861405773Z"
    }
   },
   "outputs": [],
   "source": [
    "random_array = np"
   ]
  },
  {
   "cell_type": "markdown",
   "id": "6e9ae36a",
   "metadata": {},
   "source": [
    "# Assignment 4: Arithmetic Operations"
   ]
  },
  {
   "cell_type": "markdown",
   "id": "b7283da4",
   "metadata": {},
   "source": [
    "The creativity of our marketing team knows no bounds!\n",
    "\n",
    "They've asked us to come up with a simple algorithm to provide a random discount to our list of prices below. \n",
    "\n",
    "Before we do that, \n",
    "\n",
    "* Add a 5 dollar shipping fee to each price. Call this array `total`.\n",
    "\n",
    "Once we have that, we want to use the random_array created in assignment 2 and apply them to the 6 prices.\n",
    "\n",
    "* Grab the first 6 numbers from `random_array`, reshape it to one dimension. Call this `discount_pct`.\n",
    "* Subtract `discount_pct` FROM 1, store this in `pct_owed`.\n",
    "* Multiply `pct_owed` by `total` to get the final amount owed."
   ]
  },
  {
   "cell_type": "code",
   "execution_count": 45,
   "id": "f44773da",
   "metadata": {
    "ExecuteTime": {
     "end_time": "2023-11-29T12:23:13.378915643Z",
     "start_time": "2023-11-29T12:23:13.356424057Z"
    }
   },
   "outputs": [],
   "source": [
    "prices = np.array([5.99, 6.99, 22.49, 99.99, 4.99, 49.99])\n"
   ]
  },
  {
   "cell_type": "code",
   "execution_count": 46,
   "id": "9171609a",
   "metadata": {
    "ExecuteTime": {
     "end_time": "2023-11-29T12:23:15.724710399Z",
     "start_time": "2023-11-29T12:23:15.703083945Z"
    }
   },
   "outputs": [],
   "source": [
    "total = prices + 5"
   ]
  },
  {
   "cell_type": "code",
   "execution_count": 47,
   "id": "a06dbc29",
   "metadata": {
    "ExecuteTime": {
     "end_time": "2023-11-29T12:23:18.461345231Z",
     "start_time": "2023-11-29T12:23:18.358058422Z"
    }
   },
   "outputs": [
    {
     "data": {
      "text/plain": "array([ 10.99,  11.99,  27.49, 104.99,   9.99,  54.99])"
     },
     "execution_count": 47,
     "metadata": {},
     "output_type": "execute_result"
    }
   ],
   "source": [
    "total"
   ]
  },
  {
   "cell_type": "code",
   "execution_count": 56,
   "id": "da03368e",
   "metadata": {
    "ExecuteTime": {
     "end_time": "2023-11-29T12:27:43.942497105Z",
     "start_time": "2023-11-29T12:27:43.846773230Z"
    }
   },
   "outputs": [],
   "source": [
    "discount_pct = random_array[:2,:].reshape(6)\n",
    "pct_owed = 1 - discount_pct\n",
    "final_owd = total * pct_owed"
   ]
  },
  {
   "cell_type": "code",
   "execution_count": 57,
   "outputs": [
    {
     "name": "stdout",
     "output_type": "stream",
     "text": [
      "[0.24742606 0.09299006 0.61176337 0.06066207 0.66103343 0.75515778]\n",
      "[0.75257394 0.90700994 0.38823663 0.93933793 0.33896657 0.24484222]\n",
      "[ 8.27 10.88 10.67 98.62  3.39 13.46]\n"
     ]
    }
   ],
   "source": [
    "print(discount_pct)\n",
    "print(pct_owed)\n",
    "print(final_owd.round(2))"
   ],
   "metadata": {
    "collapsed": false,
    "ExecuteTime": {
     "end_time": "2023-11-29T12:27:46.809892773Z",
     "start_time": "2023-11-29T12:27:46.784082675Z"
    }
   },
   "id": "f060e7d61885b850"
  },
  {
   "cell_type": "code",
   "execution_count": null,
   "outputs": [],
   "source": [],
   "metadata": {
    "collapsed": false
   },
   "id": "f65e667a4792d475"
  },
  {
   "cell_type": "markdown",
   "id": "30400903",
   "metadata": {},
   "source": [
    "# Assignment 5: Filtering Arrays\n",
    "\n",
    "Filter the product array to only include those with prices greater than 25.\n",
    "\n",
    "Modify your logic to include cola, despite it not having a price greater than 25. \n",
    "Store the elements returned in an array called `fancy_feast_special`.\n",
    "\n",
    "Next, create a shipping cost array where the cost is 0 if price is greater than 20, and 5 if not. "
   ]
  },
  {
   "cell_type": "code",
   "execution_count": 17,
   "id": "c144c432",
   "metadata": {
    "ExecuteTime": {
     "end_time": "2023-11-29T10:31:12.118382849Z",
     "start_time": "2023-11-29T10:31:09.959351845Z"
    }
   },
   "outputs": [
    {
     "data": {
      "text/plain": "array(['salad', 'bread', 'mustard', 'rare tomato', 'cola',\n       'gourmet ice cream'], dtype='<U17')"
     },
     "execution_count": 17,
     "metadata": {},
     "output_type": "execute_result"
    }
   ],
   "source": [
    "products = np.array(\n",
    "    [\"salad\", \"bread\", \"mustard\", \"rare tomato\", \"cola\", \"gourmet ice cream\"]\n",
    ")\n",
    "\n",
    "products"
   ]
  },
  {
   "cell_type": "code",
   "execution_count": 17,
   "id": "ba1b077b",
   "metadata": {
    "ExecuteTime": {
     "end_time": "2023-11-29T10:31:12.119065585Z",
     "start_time": "2023-11-29T10:31:09.965305002Z"
    }
   },
   "outputs": [],
   "source": []
  },
  {
   "cell_type": "markdown",
   "id": "44ce04ed",
   "metadata": {},
   "source": [
    "# Assignment 6: Aggregating and Sorting Arrays\n",
    "\n",
    "First, grab the top 3 highest priced items in our list. \n",
    "\n",
    "Then, calculated the mean, min, max, and median of the top three prices.\n",
    "\n",
    "Finally, calculate the number of unique price tiers in our `price_tiers` array."
   ]
  },
  {
   "cell_type": "code",
   "execution_count": 18,
   "id": "f97f4598",
   "metadata": {
    "ExecuteTime": {
     "end_time": "2023-11-29T10:31:12.124281490Z",
     "start_time": "2023-11-29T10:31:10.022864222Z"
    }
   },
   "outputs": [
    {
     "data": {
      "text/plain": "array([ 5.99,  6.99, 22.49, 99.99,  4.99, 49.99])"
     },
     "execution_count": 18,
     "metadata": {},
     "output_type": "execute_result"
    }
   ],
   "source": [
    "prices = np.array([5.99, 6.99, 22.49, 99.99, 4.99, 49.99])\n",
    "\n",
    "prices"
   ]
  },
  {
   "cell_type": "code",
   "execution_count": 18,
   "id": "c462eeef",
   "metadata": {
    "ExecuteTime": {
     "end_time": "2023-11-29T10:31:12.125325031Z",
     "start_time": "2023-11-29T10:31:10.023175994Z"
    }
   },
   "outputs": [],
   "source": []
  },
  {
   "cell_type": "code",
   "execution_count": 18,
   "id": "4a0b5694",
   "metadata": {
    "ExecuteTime": {
     "end_time": "2023-11-29T10:31:12.125634917Z",
     "start_time": "2023-11-29T10:31:10.066504550Z"
    }
   },
   "outputs": [],
   "source": []
  },
  {
   "cell_type": "code",
   "execution_count": 18,
   "id": "de696f1a",
   "metadata": {
    "ExecuteTime": {
     "end_time": "2023-11-29T10:31:12.125858898Z",
     "start_time": "2023-11-29T10:31:10.067064945Z"
    }
   },
   "outputs": [],
   "source": []
  },
  {
   "cell_type": "code",
   "execution_count": 19,
   "id": "b9087568",
   "metadata": {
    "ExecuteTime": {
     "end_time": "2023-11-29T10:31:12.126057297Z",
     "start_time": "2023-11-29T10:31:10.067447017Z"
    }
   },
   "outputs": [],
   "source": [
    "price_tiers = np.array([\"budget\", \"budget\", \"mid-tier\", \"luxury\", \"mid-tier\", \"luxury\"])"
   ]
  },
  {
   "cell_type": "code",
   "execution_count": 19,
   "id": "6b6e2292",
   "metadata": {
    "ExecuteTime": {
     "end_time": "2023-11-29T10:31:12.126263696Z",
     "start_time": "2023-11-29T10:31:10.067871697Z"
    }
   },
   "outputs": [],
   "source": []
  },
  {
   "cell_type": "markdown",
   "id": "31b66238",
   "metadata": {},
   "source": [
    "# Assignment 7: Bringing it All Together\n",
    "\n",
    "Ok, final NumPy task - let's read in some data with the help of Pandas.\n",
    "\n",
    "Our data scientist provided the code to read in a csv as a Pandas dataframe, and has converted the two columns of interest to arrays.\n",
    "\n",
    "* Filter `sales_array` down to only sales where the product family was produce. \n",
    "\n",
    "* Then, randomly sample roughly half (random number < .5) of the produce sales and report the mean and median sales. Use a random seed of 2022.\n",
    "\n",
    "* Finally, create a new array that has the values 'above_both', 'above_median', and 'below_both' based on whether the sales were above the median and mean of the sample, just above the median of the sample, or below both the median and mean of the sample. "
   ]
  },
  {
   "cell_type": "code",
   "execution_count": 20,
   "id": "5b567c99",
   "metadata": {
    "ExecuteTime": {
     "end_time": "2023-11-29T10:31:12.408680640Z",
     "start_time": "2023-11-29T10:31:10.110474024Z"
    }
   },
   "outputs": [
    {
     "ename": "FileNotFoundError",
     "evalue": "[Errno 2] No such file or directory: '../retail/retail_2016_2017.csv'",
     "output_type": "error",
     "traceback": [
      "\u001B[0;31m---------------------------------------------------------------------------\u001B[0m",
      "\u001B[0;31mFileNotFoundError\u001B[0m                         Traceback (most recent call last)",
      "Cell \u001B[0;32mIn[20], line 4\u001B[0m\n\u001B[1;32m      1\u001B[0m \u001B[38;5;28;01mimport\u001B[39;00m \u001B[38;5;21;01mpandas\u001B[39;00m \u001B[38;5;28;01mas\u001B[39;00m \u001B[38;5;21;01mpd\u001B[39;00m\n\u001B[1;32m      2\u001B[0m \u001B[38;5;28;01mimport\u001B[39;00m \u001B[38;5;21;01mnumpy\u001B[39;00m \u001B[38;5;28;01mas\u001B[39;00m \u001B[38;5;21;01mnp\u001B[39;00m\n\u001B[0;32m----> 4\u001B[0m retail_df \u001B[38;5;241m=\u001B[39m \u001B[43mpd\u001B[49m\u001B[38;5;241;43m.\u001B[39;49m\u001B[43mread_csv\u001B[49m\u001B[43m(\u001B[49m\n\u001B[1;32m      5\u001B[0m \u001B[43m    \u001B[49m\u001B[38;5;124;43m\"\u001B[39;49m\u001B[38;5;124;43m../retail/retail_2016_2017.csv\u001B[39;49m\u001B[38;5;124;43m\"\u001B[39;49m\u001B[43m,\u001B[49m\u001B[43m \u001B[49m\u001B[43mskiprows\u001B[49m\u001B[38;5;241;43m=\u001B[39;49m\u001B[38;5;28;43mrange\u001B[39;49m\u001B[43m(\u001B[49m\u001B[38;5;241;43m1\u001B[39;49m\u001B[43m,\u001B[49m\u001B[43m \u001B[49m\u001B[38;5;241;43m11000\u001B[39;49m\u001B[43m)\u001B[49m\u001B[43m,\u001B[49m\u001B[43m \u001B[49m\u001B[43mnrows\u001B[49m\u001B[38;5;241;43m=\u001B[39;49m\u001B[38;5;241;43m1000\u001B[39;49m\n\u001B[1;32m      6\u001B[0m \u001B[43m)\u001B[49m\n\u001B[1;32m      8\u001B[0m family_array \u001B[38;5;241m=\u001B[39m np\u001B[38;5;241m.\u001B[39marray(retail_df[\u001B[38;5;124m\"\u001B[39m\u001B[38;5;124mfamily\u001B[39m\u001B[38;5;124m\"\u001B[39m])\n\u001B[1;32m      9\u001B[0m sales_array \u001B[38;5;241m=\u001B[39m np\u001B[38;5;241m.\u001B[39marray(retail_df[\u001B[38;5;124m\"\u001B[39m\u001B[38;5;124msales\u001B[39m\u001B[38;5;124m\"\u001B[39m])\n",
      "File \u001B[0;32m~/PycharmProjects/PnadasAndNumpy/venv_new/lib/python3.10/site-packages/pandas/io/parsers/readers.py:948\u001B[0m, in \u001B[0;36mread_csv\u001B[0;34m(filepath_or_buffer, sep, delimiter, header, names, index_col, usecols, dtype, engine, converters, true_values, false_values, skipinitialspace, skiprows, skipfooter, nrows, na_values, keep_default_na, na_filter, verbose, skip_blank_lines, parse_dates, infer_datetime_format, keep_date_col, date_parser, date_format, dayfirst, cache_dates, iterator, chunksize, compression, thousands, decimal, lineterminator, quotechar, quoting, doublequote, escapechar, comment, encoding, encoding_errors, dialect, on_bad_lines, delim_whitespace, low_memory, memory_map, float_precision, storage_options, dtype_backend)\u001B[0m\n\u001B[1;32m    935\u001B[0m kwds_defaults \u001B[38;5;241m=\u001B[39m _refine_defaults_read(\n\u001B[1;32m    936\u001B[0m     dialect,\n\u001B[1;32m    937\u001B[0m     delimiter,\n\u001B[0;32m   (...)\u001B[0m\n\u001B[1;32m    944\u001B[0m     dtype_backend\u001B[38;5;241m=\u001B[39mdtype_backend,\n\u001B[1;32m    945\u001B[0m )\n\u001B[1;32m    946\u001B[0m kwds\u001B[38;5;241m.\u001B[39mupdate(kwds_defaults)\n\u001B[0;32m--> 948\u001B[0m \u001B[38;5;28;01mreturn\u001B[39;00m \u001B[43m_read\u001B[49m\u001B[43m(\u001B[49m\u001B[43mfilepath_or_buffer\u001B[49m\u001B[43m,\u001B[49m\u001B[43m \u001B[49m\u001B[43mkwds\u001B[49m\u001B[43m)\u001B[49m\n",
      "File \u001B[0;32m~/PycharmProjects/PnadasAndNumpy/venv_new/lib/python3.10/site-packages/pandas/io/parsers/readers.py:611\u001B[0m, in \u001B[0;36m_read\u001B[0;34m(filepath_or_buffer, kwds)\u001B[0m\n\u001B[1;32m    608\u001B[0m _validate_names(kwds\u001B[38;5;241m.\u001B[39mget(\u001B[38;5;124m\"\u001B[39m\u001B[38;5;124mnames\u001B[39m\u001B[38;5;124m\"\u001B[39m, \u001B[38;5;28;01mNone\u001B[39;00m))\n\u001B[1;32m    610\u001B[0m \u001B[38;5;66;03m# Create the parser.\u001B[39;00m\n\u001B[0;32m--> 611\u001B[0m parser \u001B[38;5;241m=\u001B[39m \u001B[43mTextFileReader\u001B[49m\u001B[43m(\u001B[49m\u001B[43mfilepath_or_buffer\u001B[49m\u001B[43m,\u001B[49m\u001B[43m \u001B[49m\u001B[38;5;241;43m*\u001B[39;49m\u001B[38;5;241;43m*\u001B[39;49m\u001B[43mkwds\u001B[49m\u001B[43m)\u001B[49m\n\u001B[1;32m    613\u001B[0m \u001B[38;5;28;01mif\u001B[39;00m chunksize \u001B[38;5;129;01mor\u001B[39;00m iterator:\n\u001B[1;32m    614\u001B[0m     \u001B[38;5;28;01mreturn\u001B[39;00m parser\n",
      "File \u001B[0;32m~/PycharmProjects/PnadasAndNumpy/venv_new/lib/python3.10/site-packages/pandas/io/parsers/readers.py:1448\u001B[0m, in \u001B[0;36mTextFileReader.__init__\u001B[0;34m(self, f, engine, **kwds)\u001B[0m\n\u001B[1;32m   1445\u001B[0m     \u001B[38;5;28mself\u001B[39m\u001B[38;5;241m.\u001B[39moptions[\u001B[38;5;124m\"\u001B[39m\u001B[38;5;124mhas_index_names\u001B[39m\u001B[38;5;124m\"\u001B[39m] \u001B[38;5;241m=\u001B[39m kwds[\u001B[38;5;124m\"\u001B[39m\u001B[38;5;124mhas_index_names\u001B[39m\u001B[38;5;124m\"\u001B[39m]\n\u001B[1;32m   1447\u001B[0m \u001B[38;5;28mself\u001B[39m\u001B[38;5;241m.\u001B[39mhandles: IOHandles \u001B[38;5;241m|\u001B[39m \u001B[38;5;28;01mNone\u001B[39;00m \u001B[38;5;241m=\u001B[39m \u001B[38;5;28;01mNone\u001B[39;00m\n\u001B[0;32m-> 1448\u001B[0m \u001B[38;5;28mself\u001B[39m\u001B[38;5;241m.\u001B[39m_engine \u001B[38;5;241m=\u001B[39m \u001B[38;5;28;43mself\u001B[39;49m\u001B[38;5;241;43m.\u001B[39;49m\u001B[43m_make_engine\u001B[49m\u001B[43m(\u001B[49m\u001B[43mf\u001B[49m\u001B[43m,\u001B[49m\u001B[43m \u001B[49m\u001B[38;5;28;43mself\u001B[39;49m\u001B[38;5;241;43m.\u001B[39;49m\u001B[43mengine\u001B[49m\u001B[43m)\u001B[49m\n",
      "File \u001B[0;32m~/PycharmProjects/PnadasAndNumpy/venv_new/lib/python3.10/site-packages/pandas/io/parsers/readers.py:1705\u001B[0m, in \u001B[0;36mTextFileReader._make_engine\u001B[0;34m(self, f, engine)\u001B[0m\n\u001B[1;32m   1703\u001B[0m     \u001B[38;5;28;01mif\u001B[39;00m \u001B[38;5;124m\"\u001B[39m\u001B[38;5;124mb\u001B[39m\u001B[38;5;124m\"\u001B[39m \u001B[38;5;129;01mnot\u001B[39;00m \u001B[38;5;129;01min\u001B[39;00m mode:\n\u001B[1;32m   1704\u001B[0m         mode \u001B[38;5;241m+\u001B[39m\u001B[38;5;241m=\u001B[39m \u001B[38;5;124m\"\u001B[39m\u001B[38;5;124mb\u001B[39m\u001B[38;5;124m\"\u001B[39m\n\u001B[0;32m-> 1705\u001B[0m \u001B[38;5;28mself\u001B[39m\u001B[38;5;241m.\u001B[39mhandles \u001B[38;5;241m=\u001B[39m \u001B[43mget_handle\u001B[49m\u001B[43m(\u001B[49m\n\u001B[1;32m   1706\u001B[0m \u001B[43m    \u001B[49m\u001B[43mf\u001B[49m\u001B[43m,\u001B[49m\n\u001B[1;32m   1707\u001B[0m \u001B[43m    \u001B[49m\u001B[43mmode\u001B[49m\u001B[43m,\u001B[49m\n\u001B[1;32m   1708\u001B[0m \u001B[43m    \u001B[49m\u001B[43mencoding\u001B[49m\u001B[38;5;241;43m=\u001B[39;49m\u001B[38;5;28;43mself\u001B[39;49m\u001B[38;5;241;43m.\u001B[39;49m\u001B[43moptions\u001B[49m\u001B[38;5;241;43m.\u001B[39;49m\u001B[43mget\u001B[49m\u001B[43m(\u001B[49m\u001B[38;5;124;43m\"\u001B[39;49m\u001B[38;5;124;43mencoding\u001B[39;49m\u001B[38;5;124;43m\"\u001B[39;49m\u001B[43m,\u001B[49m\u001B[43m \u001B[49m\u001B[38;5;28;43;01mNone\u001B[39;49;00m\u001B[43m)\u001B[49m\u001B[43m,\u001B[49m\n\u001B[1;32m   1709\u001B[0m \u001B[43m    \u001B[49m\u001B[43mcompression\u001B[49m\u001B[38;5;241;43m=\u001B[39;49m\u001B[38;5;28;43mself\u001B[39;49m\u001B[38;5;241;43m.\u001B[39;49m\u001B[43moptions\u001B[49m\u001B[38;5;241;43m.\u001B[39;49m\u001B[43mget\u001B[49m\u001B[43m(\u001B[49m\u001B[38;5;124;43m\"\u001B[39;49m\u001B[38;5;124;43mcompression\u001B[39;49m\u001B[38;5;124;43m\"\u001B[39;49m\u001B[43m,\u001B[49m\u001B[43m \u001B[49m\u001B[38;5;28;43;01mNone\u001B[39;49;00m\u001B[43m)\u001B[49m\u001B[43m,\u001B[49m\n\u001B[1;32m   1710\u001B[0m \u001B[43m    \u001B[49m\u001B[43mmemory_map\u001B[49m\u001B[38;5;241;43m=\u001B[39;49m\u001B[38;5;28;43mself\u001B[39;49m\u001B[38;5;241;43m.\u001B[39;49m\u001B[43moptions\u001B[49m\u001B[38;5;241;43m.\u001B[39;49m\u001B[43mget\u001B[49m\u001B[43m(\u001B[49m\u001B[38;5;124;43m\"\u001B[39;49m\u001B[38;5;124;43mmemory_map\u001B[39;49m\u001B[38;5;124;43m\"\u001B[39;49m\u001B[43m,\u001B[49m\u001B[43m \u001B[49m\u001B[38;5;28;43;01mFalse\u001B[39;49;00m\u001B[43m)\u001B[49m\u001B[43m,\u001B[49m\n\u001B[1;32m   1711\u001B[0m \u001B[43m    \u001B[49m\u001B[43mis_text\u001B[49m\u001B[38;5;241;43m=\u001B[39;49m\u001B[43mis_text\u001B[49m\u001B[43m,\u001B[49m\n\u001B[1;32m   1712\u001B[0m \u001B[43m    \u001B[49m\u001B[43merrors\u001B[49m\u001B[38;5;241;43m=\u001B[39;49m\u001B[38;5;28;43mself\u001B[39;49m\u001B[38;5;241;43m.\u001B[39;49m\u001B[43moptions\u001B[49m\u001B[38;5;241;43m.\u001B[39;49m\u001B[43mget\u001B[49m\u001B[43m(\u001B[49m\u001B[38;5;124;43m\"\u001B[39;49m\u001B[38;5;124;43mencoding_errors\u001B[39;49m\u001B[38;5;124;43m\"\u001B[39;49m\u001B[43m,\u001B[49m\u001B[43m \u001B[49m\u001B[38;5;124;43m\"\u001B[39;49m\u001B[38;5;124;43mstrict\u001B[39;49m\u001B[38;5;124;43m\"\u001B[39;49m\u001B[43m)\u001B[49m\u001B[43m,\u001B[49m\n\u001B[1;32m   1713\u001B[0m \u001B[43m    \u001B[49m\u001B[43mstorage_options\u001B[49m\u001B[38;5;241;43m=\u001B[39;49m\u001B[38;5;28;43mself\u001B[39;49m\u001B[38;5;241;43m.\u001B[39;49m\u001B[43moptions\u001B[49m\u001B[38;5;241;43m.\u001B[39;49m\u001B[43mget\u001B[49m\u001B[43m(\u001B[49m\u001B[38;5;124;43m\"\u001B[39;49m\u001B[38;5;124;43mstorage_options\u001B[39;49m\u001B[38;5;124;43m\"\u001B[39;49m\u001B[43m,\u001B[49m\u001B[43m \u001B[49m\u001B[38;5;28;43;01mNone\u001B[39;49;00m\u001B[43m)\u001B[49m\u001B[43m,\u001B[49m\n\u001B[1;32m   1714\u001B[0m \u001B[43m\u001B[49m\u001B[43m)\u001B[49m\n\u001B[1;32m   1715\u001B[0m \u001B[38;5;28;01massert\u001B[39;00m \u001B[38;5;28mself\u001B[39m\u001B[38;5;241m.\u001B[39mhandles \u001B[38;5;129;01mis\u001B[39;00m \u001B[38;5;129;01mnot\u001B[39;00m \u001B[38;5;28;01mNone\u001B[39;00m\n\u001B[1;32m   1716\u001B[0m f \u001B[38;5;241m=\u001B[39m \u001B[38;5;28mself\u001B[39m\u001B[38;5;241m.\u001B[39mhandles\u001B[38;5;241m.\u001B[39mhandle\n",
      "File \u001B[0;32m~/PycharmProjects/PnadasAndNumpy/venv_new/lib/python3.10/site-packages/pandas/io/common.py:863\u001B[0m, in \u001B[0;36mget_handle\u001B[0;34m(path_or_buf, mode, encoding, compression, memory_map, is_text, errors, storage_options)\u001B[0m\n\u001B[1;32m    858\u001B[0m \u001B[38;5;28;01melif\u001B[39;00m \u001B[38;5;28misinstance\u001B[39m(handle, \u001B[38;5;28mstr\u001B[39m):\n\u001B[1;32m    859\u001B[0m     \u001B[38;5;66;03m# Check whether the filename is to be opened in binary mode.\u001B[39;00m\n\u001B[1;32m    860\u001B[0m     \u001B[38;5;66;03m# Binary mode does not support 'encoding' and 'newline'.\u001B[39;00m\n\u001B[1;32m    861\u001B[0m     \u001B[38;5;28;01mif\u001B[39;00m ioargs\u001B[38;5;241m.\u001B[39mencoding \u001B[38;5;129;01mand\u001B[39;00m \u001B[38;5;124m\"\u001B[39m\u001B[38;5;124mb\u001B[39m\u001B[38;5;124m\"\u001B[39m \u001B[38;5;129;01mnot\u001B[39;00m \u001B[38;5;129;01min\u001B[39;00m ioargs\u001B[38;5;241m.\u001B[39mmode:\n\u001B[1;32m    862\u001B[0m         \u001B[38;5;66;03m# Encoding\u001B[39;00m\n\u001B[0;32m--> 863\u001B[0m         handle \u001B[38;5;241m=\u001B[39m \u001B[38;5;28;43mopen\u001B[39;49m\u001B[43m(\u001B[49m\n\u001B[1;32m    864\u001B[0m \u001B[43m            \u001B[49m\u001B[43mhandle\u001B[49m\u001B[43m,\u001B[49m\n\u001B[1;32m    865\u001B[0m \u001B[43m            \u001B[49m\u001B[43mioargs\u001B[49m\u001B[38;5;241;43m.\u001B[39;49m\u001B[43mmode\u001B[49m\u001B[43m,\u001B[49m\n\u001B[1;32m    866\u001B[0m \u001B[43m            \u001B[49m\u001B[43mencoding\u001B[49m\u001B[38;5;241;43m=\u001B[39;49m\u001B[43mioargs\u001B[49m\u001B[38;5;241;43m.\u001B[39;49m\u001B[43mencoding\u001B[49m\u001B[43m,\u001B[49m\n\u001B[1;32m    867\u001B[0m \u001B[43m            \u001B[49m\u001B[43merrors\u001B[49m\u001B[38;5;241;43m=\u001B[39;49m\u001B[43merrors\u001B[49m\u001B[43m,\u001B[49m\n\u001B[1;32m    868\u001B[0m \u001B[43m            \u001B[49m\u001B[43mnewline\u001B[49m\u001B[38;5;241;43m=\u001B[39;49m\u001B[38;5;124;43m\"\u001B[39;49m\u001B[38;5;124;43m\"\u001B[39;49m\u001B[43m,\u001B[49m\n\u001B[1;32m    869\u001B[0m \u001B[43m        \u001B[49m\u001B[43m)\u001B[49m\n\u001B[1;32m    870\u001B[0m     \u001B[38;5;28;01melse\u001B[39;00m:\n\u001B[1;32m    871\u001B[0m         \u001B[38;5;66;03m# Binary mode\u001B[39;00m\n\u001B[1;32m    872\u001B[0m         handle \u001B[38;5;241m=\u001B[39m \u001B[38;5;28mopen\u001B[39m(handle, ioargs\u001B[38;5;241m.\u001B[39mmode)\n",
      "\u001B[0;31mFileNotFoundError\u001B[0m: [Errno 2] No such file or directory: '../retail/retail_2016_2017.csv'"
     ]
    }
   ],
   "source": [
    "import pandas as pd\n",
    "import numpy as np\n",
    "\n",
    "retail_df = pd.read_csv(\n",
    "    \"../retail/retail_2016_2017.csv\", skiprows=range(1, 11000), nrows=1000\n",
    ")\n",
    "\n",
    "family_array = np.array(retail_df[\"family\"])\n",
    "sales_array = np.array(retail_df[\"sales\"])"
   ]
  },
  {
   "cell_type": "code",
   "execution_count": null,
   "id": "a0424a65",
   "metadata": {
    "ExecuteTime": {
     "start_time": "2023-11-29T10:31:10.987461862Z"
    }
   },
   "outputs": [],
   "source": []
  },
  {
   "cell_type": "code",
   "execution_count": null,
   "id": "96eaf423",
   "metadata": {
    "ExecuteTime": {
     "start_time": "2023-11-29T10:31:11.034954391Z"
    }
   },
   "outputs": [],
   "source": []
  },
  {
   "cell_type": "code",
   "execution_count": null,
   "id": "432041d4",
   "metadata": {
    "ExecuteTime": {
     "start_time": "2023-11-29T10:31:11.035343875Z"
    }
   },
   "outputs": [],
   "source": []
  },
  {
   "cell_type": "code",
   "execution_count": null,
   "id": "e0186438",
   "metadata": {
    "ExecuteTime": {
     "start_time": "2023-11-29T10:31:11.035511125Z"
    }
   },
   "outputs": [],
   "source": []
  },
  {
   "cell_type": "code",
   "execution_count": null,
   "id": "33c9a16a",
   "metadata": {
    "ExecuteTime": {
     "start_time": "2023-11-29T10:31:11.035611252Z"
    }
   },
   "outputs": [],
   "source": []
  },
  {
   "cell_type": "code",
   "execution_count": null,
   "id": "2aebf230",
   "metadata": {
    "ExecuteTime": {
     "start_time": "2023-11-29T10:31:11.035759121Z"
    }
   },
   "outputs": [],
   "source": []
  }
 ],
 "metadata": {
  "kernelspec": {
   "display_name": "Python 3 (ipykernel)",
   "language": "python",
   "name": "python3"
  },
  "language_info": {
   "codemirror_mode": {
    "name": "ipython",
    "version": 3
   },
   "file_extension": ".py",
   "mimetype": "text/x-python",
   "name": "python",
   "nbconvert_exporter": "python",
   "pygments_lexer": "ipython3",
   "version": "3.9.7"
  }
 },
 "nbformat": 4,
 "nbformat_minor": 5
}
