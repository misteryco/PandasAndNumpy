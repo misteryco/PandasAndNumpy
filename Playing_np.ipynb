{
 "cells": [
  {
   "cell_type": "markdown",
   "id": "d0d4a2ef",
   "metadata": {},
   "source": [
    "### Package Imports"
   ]
  },
  {
   "cell_type": "code",
   "execution_count": 27,
   "id": "dbd96293",
   "metadata": {
    "ExecuteTime": {
     "end_time": "2023-11-29T10:46:08.542220506Z",
     "start_time": "2023-11-29T10:46:08.462119247Z"
    }
   },
   "outputs": [],
   "source": [
    "import numpy as np\n",
    "from numpy.random import default_rng"
   ]
  },
  {
   "cell_type": "markdown",
   "id": "3a5e9bd3",
   "metadata": {},
   "source": [
    "# Assignment 1: Array Basics\n",
    "\n",
    "Hi there,\n",
    "\n",
    "Can you import Numpy and convert the following list comprehension (I just learned about comprehensions in an awesome course by Maven) into an array?\n",
    "\n",
    "Once you've done that report the following about the array:\n",
    "* The number of dimensions \n",
    "* The shape\n",
    "* The number of elements in the array\n",
    "* The type of data contained inside"
   ]
  },
  {
   "cell_type": "code",
   "execution_count": 8,
   "id": "6d3f8d99",
   "metadata": {
    "ExecuteTime": {
     "end_time": "2023-11-29T10:31:10.603066293Z",
     "start_time": "2023-11-29T10:31:09.763539588Z"
    }
   },
   "outputs": [
    {
     "data": {
      "text/plain": "array([ 10,  20,  30,  40,  50,  60,  70,  80,  90, 100])"
     },
     "execution_count": 8,
     "metadata": {},
     "output_type": "execute_result"
    }
   ],
   "source": [
    "my_list = [x * 10 for x in range(1, 11)]\n",
    "array = np.array(my_list)\n",
    "array"
   ]
  },
  {
   "cell_type": "code",
   "execution_count": 9,
   "outputs": [
    {
     "data": {
      "text/plain": "1"
     },
     "execution_count": 9,
     "metadata": {},
     "output_type": "execute_result"
    }
   ],
   "source": [
    "array.ndim"
   ],
   "metadata": {
    "collapsed": false,
    "ExecuteTime": {
     "end_time": "2023-11-29T10:31:10.692051602Z",
     "start_time": "2023-11-29T10:31:09.780872301Z"
    }
   },
   "id": "2c8c4ec52cb42754"
  },
  {
   "cell_type": "code",
   "execution_count": 10,
   "outputs": [
    {
     "data": {
      "text/plain": "(10,)"
     },
     "execution_count": 10,
     "metadata": {},
     "output_type": "execute_result"
    }
   ],
   "source": [
    "array.shape"
   ],
   "metadata": {
    "collapsed": false,
    "ExecuteTime": {
     "end_time": "2023-11-29T10:31:10.891819317Z",
     "start_time": "2023-11-29T10:31:09.794980369Z"
    }
   },
   "id": "e7505a3d0612ed41"
  },
  {
   "cell_type": "code",
   "execution_count": 11,
   "outputs": [
    {
     "data": {
      "text/plain": "10"
     },
     "execution_count": 11,
     "metadata": {},
     "output_type": "execute_result"
    }
   ],
   "source": [
    "array.size"
   ],
   "metadata": {
    "collapsed": false,
    "ExecuteTime": {
     "end_time": "2023-11-29T10:31:11.072585997Z",
     "start_time": "2023-11-29T10:31:09.807926722Z"
    }
   },
   "id": "316b439b3c719b19"
  },
  {
   "cell_type": "code",
   "execution_count": 12,
   "outputs": [
    {
     "data": {
      "text/plain": "dtype('int64')"
     },
     "execution_count": 12,
     "metadata": {},
     "output_type": "execute_result"
    }
   ],
   "source": [
    "array.dtype"
   ],
   "metadata": {
    "collapsed": false,
    "ExecuteTime": {
     "end_time": "2023-11-29T10:31:11.255014364Z",
     "start_time": "2023-11-29T10:31:09.825264514Z"
    }
   },
   "id": "eb0492c985f9f6ff"
  },
  {
   "cell_type": "markdown",
   "id": "8ff92bb7",
   "metadata": {},
   "source": [
    "# Assignment 2: Array Creation\n",
    "\n",
    "Thanks for your help with the first piece - I'm starting to understand some of the key differences between base Python data types and NumPy arrays. \n",
    "\n",
    "Does NumPy have anything like the range() function from base Python?\n",
    "\n",
    "If so: \n",
    "* create the same array from assignment 1 using a NumPy function. \n",
    "* Make it 5 rows and 2 columns. \n",
    "* It's ok if the datatype is float or int."
   ]
  },
  {
   "cell_type": "code",
   "execution_count": 23,
   "id": "81839e0f",
   "metadata": {
    "ExecuteTime": {
     "end_time": "2023-11-29T10:43:02.239287078Z",
     "start_time": "2023-11-29T10:43:02.210628174Z"
    }
   },
   "outputs": [
    {
     "data": {
      "text/plain": "array([ 10.,  20.,  30.,  40.,  50.,  60.,  70.,  80.,  90., 100.])"
     },
     "execution_count": 23,
     "metadata": {},
     "output_type": "execute_result"
    }
   ],
   "source": [
    "new_array = np.linspace(10, 100, 10)\n",
    "new_array"
   ]
  },
  {
   "cell_type": "code",
   "execution_count": 24,
   "outputs": [
    {
     "data": {
      "text/plain": "array([[ 10.,  20.],\n       [ 30.,  40.],\n       [ 50.,  60.],\n       [ 70.,  80.],\n       [ 90., 100.]])"
     },
     "execution_count": 24,
     "metadata": {},
     "output_type": "execute_result"
    }
   ],
   "source": [
    "new_array.reshape(5, 2)"
   ],
   "metadata": {
    "collapsed": false,
    "ExecuteTime": {
     "end_time": "2023-11-29T10:43:07.797342667Z",
     "start_time": "2023-11-29T10:43:07.762205682Z"
    }
   },
   "id": "53d8010da024b380"
  },
  {
   "cell_type": "markdown",
   "id": "e0849aa4",
   "metadata": {},
   "source": [
    "Looking good so far! One of our data scientists asked about random number generation in NumPy.\n",
    "\n",
    "Can you create a 3x3 array of random numbers between 0 and 1? Use a random state of 2022.\n",
    "\n",
    "Store the random array in a variable called `random_array`."
   ]
  },
  {
   "cell_type": "code",
   "execution_count": 14,
   "id": "a2e29128",
   "metadata": {
    "ExecuteTime": {
     "end_time": "2023-11-29T10:31:11.882164502Z",
     "start_time": "2023-11-29T10:31:09.849492103Z"
    }
   },
   "outputs": [
    {
     "data": {
      "text/plain": "array([[[0.28123321, 0.36377033, 0.21682198],\n        [0.78316277, 0.36311419, 0.69959623],\n        [0.31096912, 0.18640881, 0.62759364]]])"
     },
     "execution_count": 14,
     "metadata": {},
     "output_type": "execute_result"
    }
   ],
   "source": [
    "random_array = np.random.random((1, 3, 3))\n",
    "random_array"
   ]
  },
  {
   "cell_type": "code",
   "execution_count": 30,
   "outputs": [
    {
     "data": {
      "text/plain": "array([[0.24742606, 0.09299006, 0.61176337],\n       [0.06066207, 0.66103343, 0.75515778],\n       [0.1108689 , 0.04305584, 0.41441747]])"
     },
     "execution_count": 30,
     "metadata": {},
     "output_type": "execute_result"
    }
   ],
   "source": [
    "# Using random state of 2022\n",
    "rng = default_rng(2022)\n",
    "random_array = rng.random(9).reshape(3, 3)\n",
    "random_array"
   ],
   "metadata": {
    "collapsed": false,
    "ExecuteTime": {
     "end_time": "2023-11-29T10:49:49.757979898Z",
     "start_time": "2023-11-29T10:49:49.427785905Z"
    }
   },
   "id": "1be2e05053b54678"
  },
  {
   "cell_type": "markdown",
   "id": "6927e8b0",
   "metadata": {},
   "source": [
    "# Assignment 3: Accessing Array Data\n",
    "\n",
    "\n",
    "Slice and index the `random_array` we created in the previous exercise. Perform the following:\n",
    "\n",
    "* Grab the first two 'rows' of the array\n",
    "* Grab the entire first column\n",
    "* Finally, grab the second selement of the third row.\n",
    "\n",
    "Thanks!\n"
   ]
  },
  {
   "cell_type": "code",
   "execution_count": 31,
   "outputs": [
    {
     "data": {
      "text/plain": "array([[0.24742606, 0.09299006, 0.61176337],\n       [0.06066207, 0.66103343, 0.75515778]])"
     },
     "execution_count": 31,
     "metadata": {},
     "output_type": "execute_result"
    }
   ],
   "source": [
    "random_array[:2, :]"
   ],
   "metadata": {
    "collapsed": false,
    "ExecuteTime": {
     "end_time": "2023-11-29T11:21:14.858919948Z",
     "start_time": "2023-11-29T11:21:14.751969608Z"
    }
   },
   "id": "20d83b35d4720f18"
  },
  {
   "cell_type": "code",
   "execution_count": 32,
   "outputs": [
    {
     "data": {
      "text/plain": "array([[0.24742606],\n       [0.06066207],\n       [0.1108689 ]])"
     },
     "execution_count": 32,
     "metadata": {},
     "output_type": "execute_result"
    }
   ],
   "source": [
    "random_array[:, :1]"
   ],
   "metadata": {
    "collapsed": false,
    "ExecuteTime": {
     "end_time": "2023-11-29T11:21:39.734003978Z",
     "start_time": "2023-11-29T11:21:39.632388988Z"
    }
   },
   "id": "ec75ce7fbd925b09"
  },
  {
   "cell_type": "code",
   "execution_count": 33,
   "outputs": [
    {
     "data": {
      "text/plain": "0.7551577777762973"
     },
     "execution_count": 33,
     "metadata": {},
     "output_type": "execute_result"
    }
   ],
   "source": [
    "random_array[1, 2]"
   ],
   "metadata": {
    "collapsed": false,
    "ExecuteTime": {
     "end_time": "2023-11-29T11:22:11.165699813Z",
     "start_time": "2023-11-29T11:22:11.083520239Z"
    }
   },
   "id": "eaa4fe443f06b39a"
  },
  {
   "cell_type": "code",
   "execution_count": 15,
   "id": "62a4e208",
   "metadata": {
    "ExecuteTime": {
     "end_time": "2023-11-29T10:31:12.104825289Z",
     "start_time": "2023-11-29T10:31:09.861405773Z"
    }
   },
   "outputs": [],
   "source": [
    "random_array = np"
   ]
  },
  {
   "cell_type": "markdown",
   "id": "6e9ae36a",
   "metadata": {},
   "source": [
    "# Assignment 4: Arithmetic Operations"
   ]
  },
  {
   "cell_type": "markdown",
   "id": "b7283da4",
   "metadata": {},
   "source": [
    "The creativity of our marketing team knows no bounds!\n",
    "\n",
    "They've asked us to come up with a simple algorithm to provide a random discount to our list of prices below. \n",
    "\n",
    "Before we do that, \n",
    "\n",
    "* Add a 5 dollar shipping fee to each price. Call this array `total`.\n",
    "\n",
    "Once we have that, we want to use the random_array created in assignment 2 and apply them to the 6 prices.\n",
    "\n",
    "* Grab the first 6 numbers from `random_array`, reshape it to one dimension. Call this `discount_pct`.\n",
    "* Subtract `discount_pct` FROM 1, store this in `pct_owed`.\n",
    "* Multiply `pct_owed` by `total` to get the final amount owed."
   ]
  },
  {
   "cell_type": "code",
   "execution_count": 45,
   "id": "f44773da",
   "metadata": {
    "ExecuteTime": {
     "end_time": "2023-11-29T12:23:13.378915643Z",
     "start_time": "2023-11-29T12:23:13.356424057Z"
    }
   },
   "outputs": [],
   "source": [
    "prices = np.array([5.99, 6.99, 22.49, 99.99, 4.99, 49.99])\n"
   ]
  },
  {
   "cell_type": "code",
   "execution_count": 46,
   "id": "9171609a",
   "metadata": {
    "ExecuteTime": {
     "end_time": "2023-11-29T12:23:15.724710399Z",
     "start_time": "2023-11-29T12:23:15.703083945Z"
    }
   },
   "outputs": [],
   "source": [
    "total = prices + 5"
   ]
  },
  {
   "cell_type": "code",
   "execution_count": 47,
   "id": "a06dbc29",
   "metadata": {
    "ExecuteTime": {
     "end_time": "2023-11-29T12:23:18.461345231Z",
     "start_time": "2023-11-29T12:23:18.358058422Z"
    }
   },
   "outputs": [
    {
     "data": {
      "text/plain": "array([ 10.99,  11.99,  27.49, 104.99,   9.99,  54.99])"
     },
     "execution_count": 47,
     "metadata": {},
     "output_type": "execute_result"
    }
   ],
   "source": [
    "total"
   ]
  },
  {
   "cell_type": "code",
   "execution_count": 56,
   "id": "da03368e",
   "metadata": {
    "ExecuteTime": {
     "end_time": "2023-11-29T12:27:43.942497105Z",
     "start_time": "2023-11-29T12:27:43.846773230Z"
    }
   },
   "outputs": [],
   "source": [
    "discount_pct = random_array[:2, :].reshape(6)\n",
    "pct_owed = 1 - discount_pct\n",
    "final_owd = total * pct_owed"
   ]
  },
  {
   "cell_type": "code",
   "execution_count": 57,
   "outputs": [
    {
     "name": "stdout",
     "output_type": "stream",
     "text": [
      "[0.24742606 0.09299006 0.61176337 0.06066207 0.66103343 0.75515778]\n",
      "[0.75257394 0.90700994 0.38823663 0.93933793 0.33896657 0.24484222]\n",
      "[ 8.27 10.88 10.67 98.62  3.39 13.46]\n"
     ]
    }
   ],
   "source": [
    "print(discount_pct)\n",
    "print(pct_owed)\n",
    "print(final_owd.round(2))"
   ],
   "metadata": {
    "collapsed": false,
    "ExecuteTime": {
     "end_time": "2023-11-29T12:27:46.809892773Z",
     "start_time": "2023-11-29T12:27:46.784082675Z"
    }
   },
   "id": "f060e7d61885b850"
  },
  {
   "cell_type": "code",
   "execution_count": null,
   "outputs": [],
   "source": [],
   "metadata": {
    "collapsed": false
   },
   "id": "f65e667a4792d475"
  },
  {
   "cell_type": "code",
   "execution_count": null,
   "outputs": [],
   "source": [],
   "metadata": {
    "collapsed": false
   },
   "id": "d381cd14605101bd"
  },
  {
   "cell_type": "markdown",
   "id": "30400903",
   "metadata": {},
   "source": [
    "# Assignment 5: Filtering Arrays\n",
    "\n",
    "Filter the product array to only include those with prices greater than 25.\n",
    "\n",
    "Modify your logic to include cola, despite it not having a price greater than 25. \n",
    "Store the elements returned in an array called `fancy_feast_special`.\n",
    "\n",
    "Next, create a shipping cost array where the cost is 0 if price is greater than 20, and 5 if not. "
   ]
  },
  {
   "cell_type": "code",
   "execution_count": 17,
   "id": "c144c432",
   "metadata": {
    "ExecuteTime": {
     "end_time": "2023-11-29T10:31:12.118382849Z",
     "start_time": "2023-11-29T10:31:09.959351845Z"
    }
   },
   "outputs": [
    {
     "data": {
      "text/plain": "array(['salad', 'bread', 'mustard', 'rare tomato', 'cola',\n       'gourmet ice cream'], dtype='<U17')"
     },
     "execution_count": 17,
     "metadata": {},
     "output_type": "execute_result"
    }
   ],
   "source": [
    "products = np.array(\n",
    "    [\"salad\", \"bread\", \"mustard\", \"rare tomato\", \"cola\", \"gourmet ice cream\"]\n",
    ")\n",
    "\n",
    "products"
   ]
  },
  {
   "cell_type": "code",
   "execution_count": 61,
   "id": "ba1b077b",
   "metadata": {
    "ExecuteTime": {
     "end_time": "2023-11-29T14:36:00.075421481Z",
     "start_time": "2023-11-29T14:35:59.940028346Z"
    }
   },
   "outputs": [
    {
     "data": {
      "text/plain": "array(['rare tomato', 'cola', 'gourmet ice cream'], dtype='<U17')"
     },
     "execution_count": 61,
     "metadata": {},
     "output_type": "execute_result"
    }
   ],
   "source": [
    "fancy_feast_special = products[(prices > 25) | (products == 'cola')]\n",
    "fancy_feast_special"
   ]
  },
  {
   "cell_type": "code",
   "execution_count": 65,
   "outputs": [
    {
     "data": {
      "text/plain": "array([5, 5, 0, 0, 5, 0])"
     },
     "execution_count": 65,
     "metadata": {},
     "output_type": "execute_result"
    }
   ],
   "source": [
    "shipping = np.where(prices > 20, 0, 5)\n",
    "shipping"
   ],
   "metadata": {
    "collapsed": false,
    "ExecuteTime": {
     "end_time": "2023-11-29T14:39:42.798388229Z",
     "start_time": "2023-11-29T14:39:42.674892164Z"
    }
   },
   "id": "dc79b19f60118163"
  },
  {
   "cell_type": "markdown",
   "id": "44ce04ed",
   "metadata": {},
   "source": [
    "# Assignment 6: Aggregating and Sorting Arrays\n",
    "\n",
    "First, grab the top 3 highest priced items in our list. \n",
    "\n",
    "Then, calculated the mean, min, max, and median of the top three prices.\n",
    "\n",
    "Finally, calculate the number of unique price tiers in our `price_tiers` array."
   ]
  },
  {
   "cell_type": "code",
   "execution_count": 66,
   "id": "f97f4598",
   "metadata": {
    "ExecuteTime": {
     "end_time": "2023-11-29T15:41:52.505358614Z",
     "start_time": "2023-11-29T15:41:52.433087247Z"
    }
   },
   "outputs": [
    {
     "data": {
      "text/plain": "array([ 5.99,  6.99, 22.49, 99.99,  4.99, 49.99])"
     },
     "execution_count": 66,
     "metadata": {},
     "output_type": "execute_result"
    }
   ],
   "source": [
    "prices = np.array([5.99, 6.99, 22.49, 99.99, 4.99, 49.99])\n",
    "prices"
   ]
  },
  {
   "cell_type": "code",
   "execution_count": 19,
   "id": "b9087568",
   "metadata": {
    "ExecuteTime": {
     "end_time": "2023-11-29T10:31:12.126057297Z",
     "start_time": "2023-11-29T10:31:10.067447017Z"
    }
   },
   "outputs": [],
   "source": [
    "price_tiers = np.array([\"budget\", \"budget\", \"mid-tier\", \"luxury\", \"mid-tier\", \"luxury\"])"
   ]
  },
  {
   "cell_type": "code",
   "execution_count": 67,
   "id": "6b6e2292",
   "metadata": {
    "ExecuteTime": {
     "end_time": "2023-11-29T15:48:04.334528616Z",
     "start_time": "2023-11-29T15:48:04.189095809Z"
    }
   },
   "outputs": [
    {
     "data": {
      "text/plain": "array([ 4.99,  5.99,  6.99, 22.49, 49.99, 99.99])"
     },
     "execution_count": 67,
     "metadata": {},
     "output_type": "execute_result"
    }
   ],
   "source": [
    "prices.sort()\n",
    "prices"
   ]
  },
  {
   "cell_type": "code",
   "execution_count": 68,
   "outputs": [
    {
     "data": {
      "text/plain": "array([22.49, 49.99, 99.99])"
     },
     "execution_count": 68,
     "metadata": {},
     "output_type": "execute_result"
    }
   ],
   "source": [
    "top3 = prices[-3:]\n",
    "top3"
   ],
   "metadata": {
    "collapsed": false,
    "ExecuteTime": {
     "end_time": "2023-11-29T15:49:01.351110100Z",
     "start_time": "2023-11-29T15:49:01.296538987Z"
    }
   },
   "id": "a48fc804b7f1ebf7"
  },
  {
   "cell_type": "code",
   "execution_count": 69,
   "outputs": [
    {
     "data": {
      "text/plain": "array(['budget', 'luxury', 'mid-tier'], dtype='<U8')"
     },
     "execution_count": 69,
     "metadata": {},
     "output_type": "execute_result"
    }
   ],
   "source": [
    "np.unique(price_tiers)"
   ],
   "metadata": {
    "collapsed": false,
    "ExecuteTime": {
     "end_time": "2023-11-29T15:49:38.085958877Z",
     "start_time": "2023-11-29T15:49:37.944554862Z"
    }
   },
   "id": "fdd59cc3db850a43"
  },
  {
   "cell_type": "markdown",
   "id": "31b66238",
   "metadata": {},
   "source": [
    "# Assignment 7: Bringing it All Together\n",
    "\n",
    "Ok, final NumPy task - let's read in some data with the help of Pandas.\n",
    "\n",
    "Our data scientist provided the code to read in a csv as a Pandas dataframe, and has converted the two columns of interest to arrays.\n",
    "\n",
    "* Filter `sales_array` down to only sales where the product family was produce. \n",
    "\n",
    "* Then, randomly sample roughly half (random number < .5) of the produce sales and report the mean and median sales. Use a random seed of 2022.\n",
    "\n",
    "* Finally, create a new array that has the values 'above_both', 'above_median', and 'below_both' based on whether the sales were above the median and mean of the sample, just above the median of the sample, or below both the median and mean of the sample. "
   ]
  },
  {
   "cell_type": "code",
   "execution_count": 73,
   "outputs": [],
   "source": [
    "import pandas as pd\n",
    "import numpy as np\n",
    "\n",
    "retail_df = pd.read_csv(\"retail/retail_2016_2017.csv\",\n",
    "                        skiprows=range(1, 11000),\n",
    "                        nrows=1000)\n",
    "\n",
    "family_array = np.array(retail_df[\"family\"])\n",
    "sales_array = np.array(retail_df[\"sales\"])"
   ],
   "metadata": {
    "collapsed": false,
    "ExecuteTime": {
     "end_time": "2023-11-29T16:04:27.385963843Z",
     "start_time": "2023-11-29T16:04:27.330606373Z"
    }
   },
   "id": "5b567c99"
  },
  {
   "cell_type": "code",
   "execution_count": 74,
   "id": "a0424a65",
   "metadata": {
    "ExecuteTime": {
     "end_time": "2023-11-29T16:06:01.107011859Z",
     "start_time": "2023-11-29T16:06:01.046289780Z"
    }
   },
   "outputs": [],
   "source": [
    "produce_array = sales_array[family_array == \"PRODUCE\"]"
   ]
  },
  {
   "cell_type": "code",
   "execution_count": 75,
   "id": "96eaf423",
   "metadata": {
    "ExecuteTime": {
     "end_time": "2023-11-29T16:06:20.996885857Z",
     "start_time": "2023-11-29T16:06:20.945359630Z"
    }
   },
   "outputs": [],
   "source": [
    "rng = np.random.default_rng(2022)"
   ]
  },
  {
   "cell_type": "code",
   "execution_count": 76,
   "id": "432041d4",
   "metadata": {
    "ExecuteTime": {
     "end_time": "2023-11-29T16:07:14.195927751Z",
     "start_time": "2023-11-29T16:07:14.138083505Z"
    }
   },
   "outputs": [
    {
     "data": {
      "text/plain": "array([0.24742606, 0.09299006, 0.61176337, 0.06066207, 0.66103343,\n       0.75515778, 0.1108689 , 0.04305584, 0.41441747, 0.98862926,\n       0.96919869, 0.25697153, 0.55876211, 0.24234798, 0.32202029,\n       0.89135975, 0.94611366, 0.72253931, 0.92847437, 0.99608701,\n       0.2494223 , 0.06229007, 0.94479027, 0.65028587, 0.32167568,\n       0.08336384, 0.21924361, 0.08417791, 0.05213927, 0.20525022])"
     },
     "execution_count": 76,
     "metadata": {},
     "output_type": "execute_result"
    }
   ],
   "source": [
    "random_array = rng.random(30)\n",
    "random_array"
   ]
  },
  {
   "cell_type": "code",
   "execution_count": 80,
   "id": "e0186438",
   "metadata": {
    "ExecuteTime": {
     "end_time": "2023-11-29T16:09:22.197469939Z",
     "start_time": "2023-11-29T16:09:22.141500262Z"
    }
   },
   "outputs": [],
   "source": [
    "sampled_array = produce_array[random_array < 0.5]"
   ]
  },
  {
   "cell_type": "code",
   "execution_count": 86,
   "id": "33c9a16a",
   "metadata": {
    "ExecuteTime": {
     "end_time": "2023-11-29T16:14:47.417650064Z",
     "start_time": "2023-11-29T16:14:47.343232951Z"
    }
   },
   "outputs": [
    {
     "data": {
      "text/plain": "2268.102470588235"
     },
     "execution_count": 86,
     "metadata": {},
     "output_type": "execute_result"
    }
   ],
   "source": [
    "mean = sampled_array.mean()\n",
    "mean"
   ]
  },
  {
   "cell_type": "code",
   "execution_count": 84,
   "id": "2aebf230",
   "metadata": {
    "ExecuteTime": {
     "end_time": "2023-11-29T16:13:50.533028334Z",
     "start_time": "2023-11-29T16:13:50.469259497Z"
    }
   },
   "outputs": [
    {
     "data": {
      "text/plain": "1272.755"
     },
     "execution_count": 84,
     "metadata": {},
     "output_type": "execute_result"
    }
   ],
   "source": [
    "median = np.median(sampled_array)\n",
    "median"
   ]
  },
  {
   "cell_type": "code",
   "execution_count": 94,
   "outputs": [
    {
     "data": {
      "text/plain": "array(['above_median', 'bellow_both', 'bellow_both', 'bellow_both',\n       'above_both', 'bellow_both', 'bellow_both', 'above_both',\n       'bellow_both', 'above_median', 'above_both', 'above_both',\n       'bellow_both', 'above_median', 'above_both', 'bellow_both',\n       'above_both'], dtype='<U12')"
     },
     "execution_count": 94,
     "metadata": {},
     "output_type": "execute_result"
    }
   ],
   "source": [
    "max_val_med_mean = \"\"\n",
    "if median < mean:\n",
    "    max_val_med_mean = \"above_median\" \n",
    "else:\n",
    "    max_val_med_mean = \"above_mean\"\n",
    "np.where(\n",
    "    sampled_array < min(median, mean),\n",
    "    \"bellow_both\",\n",
    "    np.where(sampled_array > max(median, mean), \"above_both\", max_val_med_mean)\n",
    ")"
   ],
   "metadata": {
    "collapsed": false,
    "ExecuteTime": {
     "end_time": "2023-11-29T16:26:16.519982297Z",
     "start_time": "2023-11-29T16:26:16.461185917Z"
    }
   },
   "id": "36e505758aa00b57"
  },
  {
   "cell_type": "code",
   "execution_count": 88,
   "outputs": [
    {
     "data": {
      "text/plain": "array([1662.394,  447.064,  962.866, 1077.44 , 3404.531,  962.96 ,\n       1089.319, 7860.031,  446.038, 1272.755, 2775.771, 2339.906,\n        722.333, 1567.843, 2458.456,  673.885, 8834.15 ])"
     },
     "execution_count": 88,
     "metadata": {},
     "output_type": "execute_result"
    }
   ],
   "source": [
    "sampled_array"
   ],
   "metadata": {
    "collapsed": false,
    "ExecuteTime": {
     "end_time": "2023-11-29T16:20:54.610071682Z",
     "start_time": "2023-11-29T16:20:54.552681978Z"
    }
   },
   "id": "9a4d914612567b3c"
  }
 ],
 "metadata": {
  "kernelspec": {
   "display_name": "Python 3 (ipykernel)",
   "language": "python",
   "name": "python3"
  },
  "language_info": {
   "codemirror_mode": {
    "name": "ipython",
    "version": 3
   },
   "file_extension": ".py",
   "mimetype": "text/x-python",
   "name": "python",
   "nbconvert_exporter": "python",
   "pygments_lexer": "ipython3",
   "version": "3.9.7"
  }
 },
 "nbformat": 4,
 "nbformat_minor": 5
}
