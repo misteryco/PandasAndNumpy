{
 "cells": [
  {
   "cell_type": "code",
   "execution_count": 3,
   "id": "b2d1c5b7",
   "metadata": {
    "ExecuteTime": {
     "end_time": "2023-12-04T08:20:09.243847205Z",
     "start_time": "2023-12-04T08:20:08.586258690Z"
    }
   },
   "outputs": [],
   "source": [
    "# import libraries needed\n",
    "import numpy as np\n",
    "import pandas as pd"
   ]
  },
  {
   "cell_type": "markdown",
   "id": "31a24d50",
   "metadata": {},
   "source": [
    "# Assignment 1: Series Basics\n",
    "\n",
    "The code has been previded to create an array, `oil_array` from a dataframe column. \n",
    "\n",
    "* Convert `oil_array` into a Pandas Series, called `oil_series`. Give it a name!\n",
    "* Return the name, dtype, size, and index of `oil_series`.\n",
    "\n",
    "Take the mean of the values array. \n",
    "\n",
    "Then, convert the series to integer datatype and recalculate the mean. \n"
   ]
  },
  {
   "cell_type": "code",
   "execution_count": 4,
   "id": "df36e3d6",
   "metadata": {
    "ExecuteTime": {
     "end_time": "2023-12-04T08:20:09.244656160Z",
     "start_time": "2023-12-04T08:20:08.872976836Z"
    }
   },
   "outputs": [
    {
     "data": {
      "text/plain": "array([52.22, 51.44, 51.98, 52.01, 52.82, 54.01, 53.8 , 53.75, 52.36,\n       53.26, 53.77, 53.98, 51.95, 50.82, 52.19, 53.01, 52.36, 52.45,\n       51.12, 51.39, 52.33, 52.77, 52.38, 52.14, 53.24, 53.18, 52.63,\n       52.75, 53.9 , 53.55, 53.81, 53.01, 52.19, 52.37, 52.99, 53.84,\n       52.96, 53.21, 53.11, 53.41, 53.41, 54.02, 53.61, 54.48, 53.99,\n       54.04, 54.  , 53.82, 52.63, 53.33, 53.19, 52.68, 49.83, 48.75,\n       48.05, 47.95, 47.24, 48.34, 48.3 , 48.34, 47.79, 47.02, 47.29,\n       47.  , 47.3 , 47.02, 48.36, 49.47, 50.3 , 50.54, 50.25, 50.99,\n       51.14, 51.69, 52.25, 53.06, 53.38, 53.12, 53.19, 52.62, 52.46,\n       50.49, 50.26, 49.64, 48.9 , 49.22, 49.22, 48.96, 49.31, 48.83,\n       47.65, 47.79, 45.55, 46.23, 46.46, 45.84, 47.28, 47.81, 47.83,\n       48.86])"
     },
     "execution_count": 4,
     "metadata": {},
     "output_type": "execute_result"
    }
   ],
   "source": [
    "# create a DataFrame from the oil file, drop missing values\n",
    "oil = pd.read_csv(\"retail/oil.csv\").dropna()\n",
    "\n",
    "# Grab 100 rows of oil prices\n",
    "oil_array = np.array(oil[\"dcoilwtico\"].iloc[1000:1100])\n",
    "\n",
    "oil_array"
   ]
  },
  {
   "cell_type": "code",
   "execution_count": 5,
   "id": "fc70abd0",
   "metadata": {
    "ExecuteTime": {
     "end_time": "2023-12-04T08:20:09.244803206Z",
     "start_time": "2023-12-04T08:20:08.873200675Z"
    }
   },
   "outputs": [],
   "source": [
    "oil_series = pd.Series(oil_array)\n",
    "oil_series.name = 'Oil Prices'"
   ]
  },
  {
   "cell_type": "code",
   "execution_count": 6,
   "id": "54190e1a",
   "metadata": {
    "ExecuteTime": {
     "end_time": "2023-12-04T08:20:09.244939473Z",
     "start_time": "2023-12-04T08:20:08.873365386Z"
    }
   },
   "outputs": [
    {
     "data": {
      "text/plain": "51.128299999999996"
     },
     "execution_count": 6,
     "metadata": {},
     "output_type": "execute_result"
    }
   ],
   "source": [
    "oil_series.mean()"
   ]
  },
  {
   "cell_type": "code",
   "execution_count": 7,
   "id": "7bf43cdc",
   "metadata": {
    "ExecuteTime": {
     "end_time": "2023-12-04T08:20:09.245057397Z",
     "start_time": "2023-12-04T08:20:08.873476679Z"
    }
   },
   "outputs": [
    {
     "data": {
      "text/plain": "0     52\n1     51\n2     51\n3     52\n4     52\n      ..\n95    45\n96    47\n97    47\n98    47\n99    48\nName: Oil Prices, Length: 100, dtype: int64"
     },
     "execution_count": 7,
     "metadata": {},
     "output_type": "execute_result"
    }
   ],
   "source": [
    "oil_series.astype('int')"
   ]
  },
  {
   "cell_type": "code",
   "execution_count": 8,
   "id": "96a0fb2a",
   "metadata": {
    "ExecuteTime": {
     "end_time": "2023-12-04T08:20:09.245155425Z",
     "start_time": "2023-12-04T08:20:08.873581372Z"
    }
   },
   "outputs": [
    {
     "data": {
      "text/plain": "100"
     },
     "execution_count": 8,
     "metadata": {},
     "output_type": "execute_result"
    }
   ],
   "source": [
    "oil_series.size"
   ]
  },
  {
   "cell_type": "code",
   "execution_count": 9,
   "id": "1b6d11ee",
   "metadata": {
    "ExecuteTime": {
     "end_time": "2023-12-04T08:20:09.245256794Z",
     "start_time": "2023-12-04T08:20:08.873784427Z"
    }
   },
   "outputs": [
    {
     "data": {
      "text/plain": "50.66"
     },
     "execution_count": 9,
     "metadata": {},
     "output_type": "execute_result"
    }
   ],
   "source": [
    "oil_series.values.astype('int').mean()"
   ]
  },
  {
   "cell_type": "code",
   "execution_count": 9,
   "id": "d5bc48f2",
   "metadata": {
    "ExecuteTime": {
     "end_time": "2023-12-04T08:20:09.245322348Z",
     "start_time": "2023-12-04T08:20:08.873932570Z"
    }
   },
   "outputs": [],
   "source": []
  },
  {
   "cell_type": "markdown",
   "id": "663f2bda",
   "metadata": {},
   "source": [
    "# Assignment 2:  Accessing Series Data\n",
    "\n",
    "* Set the date series, which has been created below, to be the index of the oil price series created in assignment 1.\n",
    "\n",
    "\n",
    "* Then, take the mean of the first 10 and last 10 prices of the series.\n",
    "\n",
    "\n",
    "* Finally, grab all oil prices from January 1st, 2017 - January 7th, 2017 (inclusive) and set the index to the default integer index."
   ]
  },
  {
   "cell_type": "code",
   "execution_count": 10,
   "id": "cad8001a",
   "metadata": {
    "ExecuteTime": {
     "end_time": "2023-12-04T08:20:09.245428615Z",
     "start_time": "2023-12-04T08:20:08.879445374Z"
    }
   },
   "outputs": [],
   "source": [
    "# extract date column from oil DataFrame and grab first 100 rows\n",
    "oil_series = pd.Series(oil_array)\n",
    "oil_series.name = 'Oil Prices'\n",
    "dates = pd.Series(oil[\"date\"]).iloc[1000:1100]"
   ]
  },
  {
   "cell_type": "code",
   "execution_count": 11,
   "id": "49b55b99",
   "metadata": {
    "ExecuteTime": {
     "end_time": "2023-12-04T08:20:09.245489923Z",
     "start_time": "2023-12-04T08:20:08.886434294Z"
    }
   },
   "outputs": [],
   "source": [
    "price = pd.Series(oil_array, index=dates)\n",
    "oil_series.index = dates"
   ]
  },
  {
   "cell_type": "code",
   "execution_count": 12,
   "id": "801aae04",
   "metadata": {
    "ExecuteTime": {
     "end_time": "2023-12-04T08:20:09.245624868Z",
     "start_time": "2023-12-04T08:20:08.893413369Z"
    }
   },
   "outputs": [
    {
     "data": {
      "text/plain": "date\n2016-12-20    52.22\n2016-12-21    51.44\n2016-12-22    51.98\n2016-12-23    52.01\n2016-12-27    52.82\n              ...  \n2017-05-09    45.84\n2017-05-10    47.28\n2017-05-11    47.81\n2017-05-12    47.83\n2017-05-15    48.86\nLength: 100, dtype: float64"
     },
     "execution_count": 12,
     "metadata": {},
     "output_type": "execute_result"
    }
   ],
   "source": [
    "price"
   ]
  },
  {
   "cell_type": "code",
   "execution_count": 13,
   "id": "44aa48a6",
   "metadata": {
    "ExecuteTime": {
     "end_time": "2023-12-04T08:20:09.245819926Z",
     "start_time": "2023-12-04T08:20:08.899844508Z"
    }
   },
   "outputs": [
    {
     "data": {
      "text/plain": "date\n2016-12-20    52.22\n2016-12-21    51.44\n2016-12-22    51.98\n2016-12-23    52.01\n2016-12-27    52.82\n              ...  \n2017-05-09    45.84\n2017-05-10    47.28\n2017-05-11    47.81\n2017-05-12    47.83\n2017-05-15    48.86\nName: Oil Prices, Length: 100, dtype: float64"
     },
     "execution_count": 13,
     "metadata": {},
     "output_type": "execute_result"
    }
   ],
   "source": [
    "price_ = oil_series\n",
    "price_"
   ]
  },
  {
   "cell_type": "code",
   "execution_count": 14,
   "id": "3f62e1ce",
   "metadata": {
    "ExecuteTime": {
     "end_time": "2023-12-04T08:20:09.245954306Z",
     "start_time": "2023-12-04T08:20:08.941152675Z"
    }
   },
   "outputs": [
    {
     "data": {
      "text/plain": "52.765"
     },
     "execution_count": 14,
     "metadata": {},
     "output_type": "execute_result"
    }
   ],
   "source": [
    "# Then, take the mean of the first 10 and last 10 prices of the series.\n",
    "first_ten = price_.iloc[:10]\n",
    "first_ten_mean = first_ten.mean()\n",
    "first_ten_mean"
   ]
  },
  {
   "cell_type": "code",
   "execution_count": 15,
   "id": "2485f044",
   "metadata": {
    "ExecuteTime": {
     "end_time": "2023-12-04T08:20:09.246095799Z",
     "start_time": "2023-12-04T08:20:08.941453410Z"
    }
   },
   "outputs": [
    {
     "data": {
      "text/plain": "date\n2017-01-03    52.36\n2017-01-04    53.26\n2017-01-05    53.77\n2017-01-06    53.98\nName: Oil Prices, dtype: float64"
     },
     "execution_count": 15,
     "metadata": {},
     "output_type": "execute_result"
    }
   ],
   "source": [
    "# Finally, grab all oil prices from January 1st, 2017 - January 7th, 2017 (inclusive) and set the index to the default integer index.\n",
    "prices_by_date = price_.loc['2017-01-01':'2017-01-07']\n",
    "prices_by_date"
   ]
  },
  {
   "cell_type": "code",
   "execution_count": 16,
   "outputs": [
    {
     "data": {
      "text/plain": "0     52.22\n1     51.44\n2     51.98\n3     52.01\n4     52.82\n      ...  \n95    45.84\n96    47.28\n97    47.81\n98    47.83\n99    48.86\nName: Oil Prices, Length: 100, dtype: float64"
     },
     "execution_count": 16,
     "metadata": {},
     "output_type": "execute_result"
    }
   ],
   "source": [
    "price_.reset_index(drop=True)"
   ],
   "metadata": {
    "collapsed": false,
    "ExecuteTime": {
     "end_time": "2023-12-04T08:20:09.246221467Z",
     "start_time": "2023-12-04T08:20:08.941607087Z"
    }
   },
   "id": "6970fef96c2262b7"
  },
  {
   "cell_type": "markdown",
   "id": "deec0721",
   "metadata": {},
   "source": [
    "# Assignment 3: Sorting and Filtering Series\n",
    "\n",
    "* First, get the 10 lowest prices from the data. \n",
    "* Sort the 10 lowest prices by date, starting with the most recent and ending with the oldest price.\n",
    "\n",
    "* Finally, use the list of provided dates. Select only rows with these dates that had a price of less than 50 dollars per barrel."
   ]
  },
  {
   "cell_type": "code",
   "execution_count": 17,
   "id": "46126b3e",
   "metadata": {
    "ExecuteTime": {
     "end_time": "2023-12-04T08:20:09.246288235Z",
     "start_time": "2023-12-04T08:20:08.941740191Z"
    }
   },
   "outputs": [],
   "source": [
    "# list of dates to be used to solve bullet 3\n",
    "\n",
    "dates = [\n",
    "    \"2016-12-22\",\n",
    "    \"2017-05-03\",\n",
    "    \"2017-01-06\",\n",
    "    \"2017-03-05\",\n",
    "    \"2017-02-12\",\n",
    "    \"2017-03-21\",\n",
    "    \"2017-04-14\",\n",
    "    \"2017-04-15\",\n",
    "]"
   ]
  },
  {
   "cell_type": "code",
   "execution_count": 18,
   "id": "2eecaa97",
   "metadata": {
    "scrolled": false,
    "ExecuteTime": {
     "end_time": "2023-12-04T08:20:09.246401871Z",
     "start_time": "2023-12-04T08:20:08.941893670Z"
    }
   },
   "outputs": [
    {
     "data": {
      "text/plain": "date\n2017-05-04    45.55\n2017-05-09    45.84\n2017-05-05    46.23\n2017-05-08    46.46\n2017-03-23    47.00\n              ...  \n2017-02-28    54.00\n2016-12-28    54.01\n2017-02-21    54.02\n2017-02-27    54.04\n2017-02-23    54.48\nName: Oil Prices, Length: 100, dtype: float64"
     },
     "execution_count": 18,
     "metadata": {},
     "output_type": "execute_result"
    }
   ],
   "source": [
    "sorted_vals = oil_series.sort_values()\n",
    "sorted_vals"
   ]
  },
  {
   "cell_type": "code",
   "execution_count": 19,
   "id": "4864ae20",
   "metadata": {
    "ExecuteTime": {
     "end_time": "2023-12-04T08:20:09.246459489Z",
     "start_time": "2023-12-04T08:20:08.984999048Z"
    }
   },
   "outputs": [],
   "source": [
    "top_ten_vals = sorted_vals.iloc[:10]"
   ]
  },
  {
   "cell_type": "code",
   "execution_count": 20,
   "outputs": [
    {
     "data": {
      "text/plain": "date\n2017-05-10    47.28\n2017-05-09    45.84\n2017-05-08    46.46\n2017-05-05    46.23\n2017-05-04    45.55\n2017-03-27    47.02\n2017-03-23    47.00\n2017-03-22    47.29\n2017-03-21    47.02\n2017-03-14    47.24\nName: Oil Prices, dtype: float64"
     },
     "execution_count": 20,
     "metadata": {},
     "output_type": "execute_result"
    }
   ],
   "source": [
    "with_arranged_dates = top_ten_vals.sort_index(ascending=False)\n",
    "with_arranged_dates"
   ],
   "metadata": {
    "collapsed": false,
    "ExecuteTime": {
     "end_time": "2023-12-04T08:20:09.246592533Z",
     "start_time": "2023-12-04T08:20:08.985210800Z"
    }
   },
   "id": "5ace5aeccd35e373"
  },
  {
   "cell_type": "code",
   "execution_count": 21,
   "outputs": [
    {
     "data": {
      "text/plain": "date\n2017-05-10    47.28\n2017-05-09    45.84\n2017-05-08    46.46\n2017-05-05    46.23\n2017-05-04    45.55\n2017-03-27    47.02\n2017-03-23    47.00\n2017-03-22    47.29\n2017-03-21    47.02\n2017-03-14    47.24\nName: Oil Prices, dtype: float64"
     },
     "execution_count": 21,
     "metadata": {},
     "output_type": "execute_result"
    }
   ],
   "source": [
    "# At one row\n",
    "oil_series.sort_values().iloc[:10].sort_index(ascending=False)"
   ],
   "metadata": {
    "collapsed": false,
    "ExecuteTime": {
     "end_time": "2023-12-04T08:20:09.246693718Z",
     "start_time": "2023-12-04T08:20:08.985366850Z"
    }
   },
   "id": "8f74b93b236cdfef"
  },
  {
   "cell_type": "code",
   "execution_count": 22,
   "outputs": [
    {
     "data": {
      "text/plain": "date\n2017-03-21    47.02\n2017-05-03    47.79\nName: Oil Prices, dtype: float64"
     },
     "execution_count": 22,
     "metadata": {},
     "output_type": "execute_result"
    }
   ],
   "source": [
    "mask = oil_series.index.isin(dates) & (oil_series <= 50)\n",
    "oil_series.loc[mask]\n"
   ],
   "metadata": {
    "collapsed": false,
    "ExecuteTime": {
     "end_time": "2023-12-04T08:20:09.246794806Z",
     "start_time": "2023-12-04T08:20:08.985488864Z"
    }
   },
   "id": "ebfc7d853f8c8fdd"
  },
  {
   "cell_type": "markdown",
   "id": "ce362e59",
   "metadata": {},
   "source": [
    "\n",
    "# Assignment 4: Series Operations\n",
    "\n",
    "* Increase the prices in the oil series by 10%, and add an additional 2 dollars per barrel on top of that.\n",
    "\n",
    "* Then, create a series that represents the difference between each price and max price.\n",
    "\n",
    "* Finally, extract the month from the string dates in the index and store them as an integer in their own series."
   ]
  },
  {
   "cell_type": "code",
   "execution_count": 23,
   "id": "38305859",
   "metadata": {
    "ExecuteTime": {
     "end_time": "2023-12-04T08:20:09.246843163Z",
     "start_time": "2023-12-04T08:20:08.985609193Z"
    }
   },
   "outputs": [],
   "source": [
    "# Increase the prices in the oil series by 10%, and add an additional 2 dollars per barrel on top of that.\n",
    "new_price = oil_series * 1.1 + 2"
   ]
  },
  {
   "cell_type": "code",
   "execution_count": 24,
   "id": "0f92574f",
   "metadata": {
    "ExecuteTime": {
     "end_time": "2023-12-04T08:20:09.246937998Z",
     "start_time": "2023-12-04T08:20:08.985842140Z"
    }
   },
   "outputs": [
    {
     "data": {
      "text/plain": "date\n2016-12-20    59.442\n2016-12-21    58.584\n2016-12-22    59.178\n2016-12-23    59.211\n2016-12-27    60.102\n               ...  \n2017-05-09    52.424\n2017-05-10    54.008\n2017-05-11    54.591\n2017-05-12    54.613\n2017-05-15    55.746\nName: Oil Prices, Length: 100, dtype: float64"
     },
     "execution_count": 24,
     "metadata": {},
     "output_type": "execute_result"
    }
   ],
   "source": [
    "new_price"
   ]
  },
  {
   "cell_type": "code",
   "execution_count": 25,
   "id": "98b673c0",
   "metadata": {
    "ExecuteTime": {
     "end_time": "2023-12-04T08:20:09.261542048Z",
     "start_time": "2023-12-04T08:20:08.985965132Z"
    }
   },
   "outputs": [
    {
     "data": {
      "text/plain": "61.928000000000004"
     },
     "execution_count": 25,
     "metadata": {},
     "output_type": "execute_result"
    }
   ],
   "source": [
    "# create a series that represents the difference between each price and max price\n",
    "new_price.max()\n"
   ]
  },
  {
   "cell_type": "code",
   "execution_count": 26,
   "id": "0cbd5306",
   "metadata": {
    "ExecuteTime": {
     "end_time": "2023-12-04T08:20:09.262518689Z",
     "start_time": "2023-12-04T08:20:08.986100399Z"
    }
   },
   "outputs": [
    {
     "data": {
      "text/plain": "date\n2016-12-20    -9.708\n2016-12-21   -10.488\n2016-12-22    -9.948\n2016-12-23    -9.918\n2016-12-27    -9.108\n               ...  \n2017-05-09   -16.088\n2017-05-10   -14.648\n2017-05-11   -14.118\n2017-05-12   -14.098\n2017-05-15   -13.068\nName: Oil Prices, Length: 100, dtype: float64"
     },
     "execution_count": 26,
     "metadata": {},
     "output_type": "execute_result"
    }
   ],
   "source": [
    "new_price_difference = oil_series - new_price.max()\n",
    "new_price_difference"
   ]
  },
  {
   "cell_type": "code",
   "execution_count": 27,
   "id": "0836c719",
   "metadata": {
    "ExecuteTime": {
     "end_time": "2023-12-04T08:20:09.262630520Z",
     "start_time": "2023-12-04T08:20:09.033106807Z"
    }
   },
   "outputs": [],
   "source": [
    "# extract the month from the string dates in the index and store them as an integer in their own series\n",
    "month = oil_series.index.str[5:7].astype('int')"
   ]
  },
  {
   "cell_type": "code",
   "execution_count": 28,
   "outputs": [
    {
     "data": {
      "text/plain": "0     12\n1     12\n2     12\n3     12\n4     12\n      ..\n95     5\n96     5\n97     5\n98     5\n99     5\nName: date, Length: 100, dtype: int64"
     },
     "execution_count": 28,
     "metadata": {},
     "output_type": "execute_result"
    }
   ],
   "source": [
    "pd.Series(month)"
   ],
   "metadata": {
    "collapsed": false,
    "ExecuteTime": {
     "end_time": "2023-12-04T08:20:09.262767828Z",
     "start_time": "2023-12-04T08:20:09.033414824Z"
    }
   },
   "id": "2de92181950c126c"
  },
  {
   "cell_type": "markdown",
   "id": "4735ed48",
   "metadata": {},
   "source": [
    "# Assignment 5: Series Aggregations\n",
    "\n",
    "* Calculate the sum and mean of prices in the month of March. \n",
    "\n",
    "* Next, calculate how many prices were recorded in January and February.\n",
    "\n",
    "* Then, calculate the 10th and 90th percentiles across all data.\n",
    "\n",
    "* Finally, how often did integer dollar value (e.g. 51, 52) occur in the data? Normalize this to a percentage.   "
   ]
  },
  {
   "cell_type": "code",
   "execution_count": 29,
   "id": "b7846132",
   "metadata": {
    "ExecuteTime": {
     "end_time": "2023-12-04T08:20:09.262872929Z",
     "start_time": "2023-12-04T08:20:09.033645025Z"
    }
   },
   "outputs": [
    {
     "data": {
      "text/plain": "1134.5399999999997"
     },
     "execution_count": 29,
     "metadata": {},
     "output_type": "execute_result"
    }
   ],
   "source": [
    "price_[price_.index.str[5:7] == '03'].sum()"
   ]
  },
  {
   "cell_type": "code",
   "execution_count": 30,
   "id": "2d0ea594",
   "metadata": {
    "ExecuteTime": {
     "end_time": "2023-12-04T08:20:09.262972813Z",
     "start_time": "2023-12-04T08:20:09.033805041Z"
    }
   },
   "outputs": [
    {
     "data": {
      "text/plain": "49.32782608695651"
     },
     "execution_count": 30,
     "metadata": {},
     "output_type": "execute_result"
    }
   ],
   "source": [
    "price_[price_.index.str[5:7] == '03'].mean()"
   ]
  },
  {
   "cell_type": "markdown",
   "source": [],
   "metadata": {
    "collapsed": false
   },
   "id": "47d686f8bb928f1e"
  },
  {
   "cell_type": "code",
   "execution_count": 31,
   "id": "d220d35d",
   "metadata": {
    "ExecuteTime": {
     "end_time": "2023-12-04T08:20:09.263063166Z",
     "start_time": "2023-12-04T08:20:09.033994212Z"
    }
   },
   "outputs": [
    {
     "data": {
      "text/plain": "20"
     },
     "execution_count": 31,
     "metadata": {},
     "output_type": "execute_result"
    }
   ],
   "source": [
    "price_[price_.index.str[5:7] == '01'].value_counts().sum()"
   ]
  },
  {
   "cell_type": "code",
   "execution_count": 32,
   "id": "a5082d8f",
   "metadata": {
    "ExecuteTime": {
     "end_time": "2023-12-04T08:20:09.263191702Z",
     "start_time": "2023-12-04T08:20:09.034315272Z"
    }
   },
   "outputs": [
    {
     "data": {
      "text/plain": "19"
     },
     "execution_count": 32,
     "metadata": {},
     "output_type": "execute_result"
    }
   ],
   "source": [
    "price_[price_.index.str[5:7] == '02'].value_counts().sum()"
   ]
  },
  {
   "cell_type": "code",
   "execution_count": 33,
   "outputs": [
    {
     "data": {
      "text/plain": "39"
     },
     "execution_count": 33,
     "metadata": {},
     "output_type": "execute_result"
    }
   ],
   "source": [
    "price_[price_.index.str[5:7].isin(['01', '02'])].value_counts().sum()"
   ],
   "metadata": {
    "collapsed": false,
    "ExecuteTime": {
     "end_time": "2023-12-04T08:20:09.263300661Z",
     "start_time": "2023-12-04T08:20:09.034488378Z"
    }
   },
   "id": "6055192c770e6dc2"
  },
  {
   "cell_type": "code",
   "execution_count": 34,
   "id": "fdbd3f03",
   "metadata": {
    "ExecuteTime": {
     "end_time": "2023-12-04T08:20:09.263410905Z",
     "start_time": "2023-12-04T08:20:09.034884354Z"
    }
   },
   "outputs": [
    {
     "data": {
      "text/plain": "0.1    47.299\n0.9    53.811\nName: Oil Prices, dtype: float64"
     },
     "execution_count": 34,
     "metadata": {},
     "output_type": "execute_result"
    }
   ],
   "source": [
    "price_.quantile([0.1, 0.9])"
   ]
  },
  {
   "cell_type": "code",
   "execution_count": 35,
   "outputs": [
    {
     "data": {
      "text/plain": "Oil Prices\n53    0.26\n52    0.22\n47    0.13\n48    0.10\n51    0.07\n50    0.07\n49    0.06\n54    0.05\n45    0.02\n46    0.02\nName: proportion, dtype: float64"
     },
     "execution_count": 35,
     "metadata": {},
     "output_type": "execute_result"
    }
   ],
   "source": [
    "oil_series.astype('int').value_counts(normalize=True)"
   ],
   "metadata": {
    "collapsed": false,
    "ExecuteTime": {
     "end_time": "2023-12-04T08:20:09.263523582Z",
     "start_time": "2023-12-04T08:20:09.045851444Z"
    }
   },
   "id": "7ad14d6d6153f271"
  },
  {
   "cell_type": "markdown",
   "id": "b81e8ab9",
   "metadata": {},
   "source": [
    "# Assignment 6: Missing Data\n",
    "\n",
    "There were some erroneous prices in our data, so they were filled in with missing values.\n",
    "\n",
    "Can you confirm the number of missing values in the price column? \n",
    "\n",
    "Once you’ve done that, fill the prices in with the median of the oil price series.\n"
   ]
  },
  {
   "cell_type": "code",
   "execution_count": 36,
   "id": "6d5fdec5",
   "metadata": {
    "scrolled": true,
    "ExecuteTime": {
     "end_time": "2023-12-04T08:20:09.263823530Z",
     "start_time": "2023-12-04T08:20:09.053280360Z"
    }
   },
   "outputs": [
    {
     "data": {
      "text/plain": "date\n2016-12-20    52.22\n2016-12-21      NaN\n2016-12-22    51.98\n2016-12-23    52.01\n2016-12-27    52.82\n              ...  \n2017-05-09    45.84\n2017-05-10    47.28\n2017-05-11    47.81\n2017-05-12      NaN\n2017-05-15    48.86\nName: Oil Prices, Length: 100, dtype: float64"
     },
     "execution_count": 36,
     "metadata": {},
     "output_type": "execute_result"
    }
   ],
   "source": [
    "# Fill in two values with missing data\n",
    "\n",
    "oil_series = oil_series.where(~oil_series.isin([51.44, 47.83]), pd.NA)\n",
    "oil_series"
   ]
  },
  {
   "cell_type": "code",
   "execution_count": 37,
   "id": "4c9fc3a5",
   "metadata": {
    "ExecuteTime": {
     "end_time": "2023-12-04T08:20:09.263975039Z",
     "start_time": "2023-12-04T08:20:09.058930143Z"
    }
   },
   "outputs": [
    {
     "data": {
      "text/plain": "2"
     },
     "execution_count": 37,
     "metadata": {},
     "output_type": "execute_result"
    }
   ],
   "source": [
    "oil_series.isna().sum()"
   ]
  },
  {
   "cell_type": "code",
   "execution_count": 38,
   "id": "1ec16104",
   "metadata": {
    "scrolled": true,
    "ExecuteTime": {
     "end_time": "2023-12-04T08:20:09.264184781Z",
     "start_time": "2023-12-04T08:20:09.062706203Z"
    }
   },
   "outputs": [
    {
     "data": {
      "text/plain": "date\n2016-12-20    52.220\n2016-12-21    52.205\n2016-12-22    51.980\n2016-12-23    52.010\n2016-12-27    52.820\n               ...  \n2017-05-09    45.840\n2017-05-10    47.280\n2017-05-11    47.810\n2017-05-12    52.205\n2017-05-15    48.860\nName: Oil Prices, Length: 100, dtype: float64"
     },
     "execution_count": 38,
     "metadata": {},
     "output_type": "execute_result"
    }
   ],
   "source": [
    "oil_series.fillna(oil_series.median())\n"
   ]
  },
  {
   "cell_type": "markdown",
   "id": "19a0e70c",
   "metadata": {},
   "source": [
    "# Exercise 7: Apply and Where\n",
    "\n",
    "Write a function that outputs ‘buy’ if price is less than the 90th percentile and ‘wait’ if it’s not. Apply it to the oil series.\n",
    "\n",
    "Then, create a series that multiplies price by .9 if the date is ‘2016-12-23’ or ‘2017-05-10’, and 1.1 for all other dates. "
   ]
  },
  {
   "cell_type": "code",
   "execution_count": 50,
   "outputs": [],
   "source": [
    "ninety_percent = price.quantile([0.9])\n",
    "ninety_percent = ninety_percent.iloc[0]"
   ],
   "metadata": {
    "collapsed": false,
    "ExecuteTime": {
     "end_time": "2023-12-04T08:26:56.601051826Z",
     "start_time": "2023-12-04T08:26:56.587068168Z"
    }
   },
   "id": "aac6a96dfa37ee9c"
  },
  {
   "cell_type": "code",
   "execution_count": 58,
   "outputs": [
    {
     "data": {
      "text/plain": "date\n2016-12-20    wait\n2016-12-21    wait\n2016-12-22    wait\n2016-12-23    wait\n2016-12-27    wait\n              ... \n2017-05-09    wait\n2017-05-10    wait\n2017-05-11    wait\n2017-05-12    wait\n2017-05-15    wait\nLength: 100, dtype: object"
     },
     "execution_count": 58,
     "metadata": {},
     "output_type": "execute_result"
    }
   ],
   "source": [
    "price.where(price < ninety_percent, 'buy').where(~(price < ninety_percent), 'wait')"
   ],
   "metadata": {
    "collapsed": false,
    "ExecuteTime": {
     "end_time": "2023-12-04T08:37:17.302360386Z",
     "start_time": "2023-12-04T08:37:17.282008184Z"
    }
   },
   "id": "443318fd77a1625b"
  },
  {
   "cell_type": "code",
   "execution_count": 69,
   "outputs": [
    {
     "data": {
      "text/plain": "date\n2016-12-20    52.22\n2016-12-21    51.44\n2016-12-22    51.98\n2016-12-23    52.01\n2016-12-27    52.82\n              ...  \n2017-05-09    45.84\n2017-05-10    47.28\n2017-05-11    47.81\n2017-05-12    47.83\n2017-05-15    48.86\nLength: 100, dtype: float64"
     },
     "execution_count": 69,
     "metadata": {},
     "output_type": "execute_result"
    }
   ],
   "source": [
    "price"
   ],
   "metadata": {
    "collapsed": false,
    "ExecuteTime": {
     "end_time": "2023-12-04T08:43:33.369409852Z",
     "start_time": "2023-12-04T08:43:33.326769366Z"
    }
   },
   "id": "693e78544cb06413"
  },
  {
   "cell_type": "code",
   "execution_count": 70,
   "outputs": [
    {
     "data": {
      "text/plain": "date\n2016-12-20    46.998\n2016-12-21    46.296\n2016-12-22    46.782\n2016-12-23    46.809\n2016-12-27    47.538\n               ...  \n2017-05-09    41.256\n2017-05-10    42.552\n2017-05-11    43.029\n2017-05-12    43.047\n2017-05-15    43.974\nLength: 100, dtype: float64"
     },
     "execution_count": 70,
     "metadata": {},
     "output_type": "execute_result"
    }
   ],
   "source": [
    "price.where((price.index == '2016-12-23') | (price.index == '2017-05-10'), price * 0.9).where(\n",
    "    ~((price.index == '2016-12-23') | (price.index == '2017-05-10')), price * 0.9)\n"
   ],
   "metadata": {
    "collapsed": false,
    "ExecuteTime": {
     "end_time": "2023-12-04T08:44:18.301429720Z",
     "start_time": "2023-12-04T08:44:18.254261503Z"
    }
   },
   "id": "c32e20adf1b48955"
  },
  {
   "cell_type": "code",
   "execution_count": 75,
   "outputs": [
    {
     "data": {
      "text/plain": "date\n2016-12-20     Buy\n2016-12-21    Wait\n2016-12-22     Buy\n2016-12-23     Buy\n2016-12-27     Buy\n              ... \n2017-05-09     Buy\n2017-05-10     Buy\n2017-05-11     Buy\n2017-05-12    Wait\n2017-05-15     Buy\nName: Oil Prices, Length: 100, dtype: object"
     },
     "execution_count": 75,
     "metadata": {},
     "output_type": "execute_result"
    }
   ],
   "source": [
    "def buy_bool(price_value, limit):\n",
    "    if price_value < limit:\n",
    "        return 'Buy'\n",
    "    return \"Wait\"\n",
    "\n",
    "\n",
    "# oil_series.apply(buy_bool, args=(oil_series.quantile(0.9),))\n",
    "# One important thing is that arguments should be provided as iterable => as list or a tuple, even if it's just one value\n",
    "oil_series.apply(buy_bool, args=(ninety_percent,))"
   ],
   "metadata": {
    "collapsed": false,
    "ExecuteTime": {
     "end_time": "2023-12-04T08:49:04.077822871Z",
     "start_time": "2023-12-04T08:49:04.028947639Z"
    }
   },
   "id": "da4f90fa9cfd0e95"
  },
  {
   "cell_type": "code",
   "execution_count": 76,
   "outputs": [
    {
     "data": {
      "text/plain": "date\n2016-12-20     Buy\n2016-12-21    Wait\n2016-12-22     Buy\n2016-12-23     Buy\n2016-12-27     Buy\n              ... \n2017-05-09     Buy\n2017-05-10     Buy\n2017-05-11     Buy\n2017-05-12    Wait\n2017-05-15     Buy\nName: Oil Prices, Length: 100, dtype: object"
     },
     "execution_count": 76,
     "metadata": {},
     "output_type": "execute_result"
    }
   ],
   "source": [
    "oil_series.apply(lambda x: \"Buy\" if x < ninety_percent else \"Wait\")"
   ],
   "metadata": {
    "collapsed": false,
    "ExecuteTime": {
     "end_time": "2023-12-04T09:10:12.209479183Z",
     "start_time": "2023-12-04T09:10:12.168413979Z"
    }
   },
   "id": "af10ff62063ba2fe"
  },
  {
   "cell_type": "code",
   "execution_count": 78,
   "outputs": [
    {
     "data": {
      "text/plain": "array([57.442,    nan, 57.178, 46.809, 58.102, 59.411, 59.18 , 59.125,\n       57.596, 58.586, 59.147, 59.378, 57.145, 55.902, 57.409, 58.311,\n       57.596, 57.695, 56.232, 56.529, 57.563, 58.047, 57.618, 57.354,\n       58.564, 58.498, 57.893, 58.025, 59.29 , 58.905, 59.191, 58.311,\n       57.409, 57.607, 58.289, 59.224, 58.256, 58.531, 58.421, 58.751,\n       58.751, 59.422, 58.971, 59.928, 59.389, 59.444, 59.4  , 59.202,\n       57.893, 58.663, 58.509, 57.948, 54.813, 53.625, 52.855, 52.745,\n       51.964, 53.174, 53.13 , 53.174, 52.569, 51.722, 52.019, 51.7  ,\n       52.03 , 51.722, 53.196, 54.417, 55.33 , 55.594, 55.275, 56.089,\n       56.254, 56.859, 57.475, 58.366, 58.718, 58.432, 58.509, 57.882,\n       57.706, 55.539, 55.286, 54.604, 53.79 , 54.142, 54.142, 53.856,\n       54.241, 53.713, 52.415, 52.569, 50.105, 50.853, 51.106, 50.424,\n       42.552, 52.591,    nan, 53.746])"
     },
     "execution_count": 78,
     "metadata": {},
     "output_type": "execute_result"
    }
   ],
   "source": [
    "np.where(oil_series.index.isin([\"2016-12-23\" , \"2017-05-10\"]), oil_series *0.9, oil_series *1.1)"
   ],
   "metadata": {
    "collapsed": false,
    "ExecuteTime": {
     "end_time": "2023-12-04T09:13:20.903025176Z",
     "start_time": "2023-12-04T09:13:20.889916903Z"
    }
   },
   "id": "223e585b2bf10a43"
  },
  {
   "cell_type": "code",
   "execution_count": 79,
   "outputs": [
    {
     "data": {
      "text/plain": "            Oil Prices\ndate                  \n2016-12-20       52.22\n2016-12-21         NaN\n2016-12-22       51.98\n2016-12-23       52.01\n2016-12-27       52.82\n...                ...\n2017-05-09       45.84\n2017-05-10       47.28\n2017-05-11       47.81\n2017-05-12         NaN\n2017-05-15       48.86\n\n[100 rows x 1 columns]",
      "text/html": "<div>\n<style scoped>\n    .dataframe tbody tr th:only-of-type {\n        vertical-align: middle;\n    }\n\n    .dataframe tbody tr th {\n        vertical-align: top;\n    }\n\n    .dataframe thead th {\n        text-align: right;\n    }\n</style>\n<table border=\"1\" class=\"dataframe\">\n  <thead>\n    <tr style=\"text-align: right;\">\n      <th></th>\n      <th>Oil Prices</th>\n    </tr>\n    <tr>\n      <th>date</th>\n      <th></th>\n    </tr>\n  </thead>\n  <tbody>\n    <tr>\n      <th>2016-12-20</th>\n      <td>52.22</td>\n    </tr>\n    <tr>\n      <th>2016-12-21</th>\n      <td>NaN</td>\n    </tr>\n    <tr>\n      <th>2016-12-22</th>\n      <td>51.98</td>\n    </tr>\n    <tr>\n      <th>2016-12-23</th>\n      <td>52.01</td>\n    </tr>\n    <tr>\n      <th>2016-12-27</th>\n      <td>52.82</td>\n    </tr>\n    <tr>\n      <th>...</th>\n      <td>...</td>\n    </tr>\n    <tr>\n      <th>2017-05-09</th>\n      <td>45.84</td>\n    </tr>\n    <tr>\n      <th>2017-05-10</th>\n      <td>47.28</td>\n    </tr>\n    <tr>\n      <th>2017-05-11</th>\n      <td>47.81</td>\n    </tr>\n    <tr>\n      <th>2017-05-12</th>\n      <td>NaN</td>\n    </tr>\n    <tr>\n      <th>2017-05-15</th>\n      <td>48.86</td>\n    </tr>\n  </tbody>\n</table>\n<p>100 rows × 1 columns</p>\n</div>"
     },
     "execution_count": 79,
     "metadata": {},
     "output_type": "execute_result"
    }
   ],
   "source": [
    "df = pd.DataFrame(oil_series)\n",
    "df"
   ],
   "metadata": {
    "collapsed": false,
    "ExecuteTime": {
     "end_time": "2023-12-04T09:14:21.530591214Z",
     "start_time": "2023-12-04T09:14:21.507610460Z"
    }
   },
   "id": "7307d5689e37d22b"
  }
 ],
 "metadata": {
  "kernelspec": {
   "display_name": "Python 3 (ipykernel)",
   "language": "python",
   "name": "python3"
  },
  "language_info": {
   "codemirror_mode": {
    "name": "ipython",
    "version": 3
   },
   "file_extension": ".py",
   "mimetype": "text/x-python",
   "name": "python",
   "nbconvert_exporter": "python",
   "pygments_lexer": "ipython3",
   "version": "3.9.7"
  }
 },
 "nbformat": 4,
 "nbformat_minor": 5
}
