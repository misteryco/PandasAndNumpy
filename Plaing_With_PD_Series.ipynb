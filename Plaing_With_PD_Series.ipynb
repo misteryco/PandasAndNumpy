{
 "cells": [
  {
   "cell_type": "code",
   "execution_count": 1,
   "id": "b2d1c5b7",
   "metadata": {
    "ExecuteTime": {
     "end_time": "2023-12-01T10:27:29.198106659Z",
     "start_time": "2023-12-01T10:27:28.707586289Z"
    }
   },
   "outputs": [],
   "source": [
    "# import libraries needed\n",
    "import numpy as np\n",
    "import pandas as pd"
   ]
  },
  {
   "cell_type": "markdown",
   "id": "31a24d50",
   "metadata": {},
   "source": [
    "# Assignment 1: Series Basics\n",
    "\n",
    "The code has been previded to create an array, `oil_array` from a dataframe column. \n",
    "\n",
    "* Convert `oil_array` into a Pandas Series, called `oil_series`. Give it a name!\n",
    "* Return the name, dtype, size, and index of `oil_series`.\n",
    "\n",
    "Take the mean of the values array. \n",
    "\n",
    "Then, convert the series to integer datatype and recalculate the mean. \n"
   ]
  },
  {
   "cell_type": "code",
   "execution_count": 3,
   "id": "df36e3d6",
   "metadata": {
    "ExecuteTime": {
     "end_time": "2023-12-01T10:27:44.440860782Z",
     "start_time": "2023-12-01T10:27:44.384583180Z"
    }
   },
   "outputs": [
    {
     "data": {
      "text/plain": "array([52.22, 51.44, 51.98, 52.01, 52.82, 54.01, 53.8 , 53.75, 52.36,\n       53.26, 53.77, 53.98, 51.95, 50.82, 52.19, 53.01, 52.36, 52.45,\n       51.12, 51.39, 52.33, 52.77, 52.38, 52.14, 53.24, 53.18, 52.63,\n       52.75, 53.9 , 53.55, 53.81, 53.01, 52.19, 52.37, 52.99, 53.84,\n       52.96, 53.21, 53.11, 53.41, 53.41, 54.02, 53.61, 54.48, 53.99,\n       54.04, 54.  , 53.82, 52.63, 53.33, 53.19, 52.68, 49.83, 48.75,\n       48.05, 47.95, 47.24, 48.34, 48.3 , 48.34, 47.79, 47.02, 47.29,\n       47.  , 47.3 , 47.02, 48.36, 49.47, 50.3 , 50.54, 50.25, 50.99,\n       51.14, 51.69, 52.25, 53.06, 53.38, 53.12, 53.19, 52.62, 52.46,\n       50.49, 50.26, 49.64, 48.9 , 49.22, 49.22, 48.96, 49.31, 48.83,\n       47.65, 47.79, 45.55, 46.23, 46.46, 45.84, 47.28, 47.81, 47.83,\n       48.86])"
     },
     "execution_count": 3,
     "metadata": {},
     "output_type": "execute_result"
    }
   ],
   "source": [
    "# create a DataFrame from the oil file, drop missing values\n",
    "oil = pd.read_csv(\"retail/oil.csv\").dropna()\n",
    "\n",
    "# Grab 100 rows of oil prices\n",
    "oil_array = np.array(oil[\"dcoilwtico\"].iloc[1000:1100])\n",
    "\n",
    "oil_array"
   ]
  },
  {
   "cell_type": "code",
   "execution_count": 7,
   "id": "fc70abd0",
   "metadata": {
    "ExecuteTime": {
     "end_time": "2023-12-01T10:30:07.090518824Z",
     "start_time": "2023-12-01T10:30:07.018200345Z"
    }
   },
   "outputs": [],
   "source": [
    "oil_series = pd.Series(oil_array)\n",
    "oil_series.name = 'Oil Prices'"
   ]
  },
  {
   "cell_type": "code",
   "execution_count": 8,
   "id": "54190e1a",
   "metadata": {
    "ExecuteTime": {
     "end_time": "2023-12-01T10:30:23.572724891Z",
     "start_time": "2023-12-01T10:30:23.477697926Z"
    }
   },
   "outputs": [
    {
     "data": {
      "text/plain": "51.128299999999996"
     },
     "execution_count": 8,
     "metadata": {},
     "output_type": "execute_result"
    }
   ],
   "source": [
    "oil_series.mean()"
   ]
  },
  {
   "cell_type": "code",
   "execution_count": 10,
   "id": "7bf43cdc",
   "metadata": {
    "ExecuteTime": {
     "end_time": "2023-12-01T10:31:50.312586166Z",
     "start_time": "2023-12-01T10:31:50.182763566Z"
    }
   },
   "outputs": [
    {
     "data": {
      "text/plain": "0     52\n1     51\n2     51\n3     52\n4     52\n      ..\n95    45\n96    47\n97    47\n98    47\n99    48\nName: Oil Prices, Length: 100, dtype: int64"
     },
     "execution_count": 10,
     "metadata": {},
     "output_type": "execute_result"
    }
   ],
   "source": [
    "oil_series.astype('int')"
   ]
  },
  {
   "cell_type": "code",
   "execution_count": 12,
   "id": "96a0fb2a",
   "metadata": {
    "ExecuteTime": {
     "end_time": "2023-12-01T10:32:31.253652253Z",
     "start_time": "2023-12-01T10:32:31.115122669Z"
    }
   },
   "outputs": [
    {
     "data": {
      "text/plain": "100"
     },
     "execution_count": 12,
     "metadata": {},
     "output_type": "execute_result"
    }
   ],
   "source": [
    "oil_series.size"
   ]
  },
  {
   "cell_type": "code",
   "execution_count": 16,
   "id": "1b6d11ee",
   "metadata": {
    "ExecuteTime": {
     "end_time": "2023-12-01T10:38:57.489013663Z",
     "start_time": "2023-12-01T10:38:57.440839798Z"
    }
   },
   "outputs": [
    {
     "data": {
      "text/plain": "50.66"
     },
     "execution_count": 16,
     "metadata": {},
     "output_type": "execute_result"
    }
   ],
   "source": [
    "oil_series.values.astype('int').mean()"
   ]
  },
  {
   "cell_type": "code",
   "execution_count": null,
   "id": "d5bc48f2",
   "metadata": {},
   "outputs": [],
   "source": []
  },
  {
   "cell_type": "markdown",
   "id": "663f2bda",
   "metadata": {},
   "source": [
    "# Assignment 2:  Accessing Series Data\n",
    "\n",
    "* Set the date series, which has been created below, to be the index of the oil price series created in assignment 1.\n",
    "\n",
    "\n",
    "* Then, take the mean of the first 10 and last 10 prices of the series.\n",
    "\n",
    "\n",
    "* Finally, grab all oil prices from January 1st, 2017 - January 7th, 2017 (inclusive) and set the index to the default integer index."
   ]
  },
  {
   "cell_type": "code",
   "execution_count": 28,
   "id": "cad8001a",
   "metadata": {
    "ExecuteTime": {
     "end_time": "2023-12-01T11:54:24.476358509Z",
     "start_time": "2023-12-01T11:54:24.400406229Z"
    }
   },
   "outputs": [],
   "source": [
    "# extract date column from oil DataFrame and grab first 100 rows\n",
    "oil_series = pd.Series(oil_array)\n",
    "oil_series.name = 'Oil Prices'\n",
    "dates = pd.Series(oil[\"date\"]).iloc[1000:1100]"
   ]
  },
  {
   "cell_type": "code",
   "execution_count": 34,
   "id": "49b55b99",
   "metadata": {
    "ExecuteTime": {
     "end_time": "2023-12-01T11:55:06.443891253Z",
     "start_time": "2023-12-01T11:55:06.403887710Z"
    }
   },
   "outputs": [],
   "source": [
    "price = pd.Series(oil_array, index=dates)\n",
    "oil_series.index= dates"
   ]
  },
  {
   "cell_type": "code",
   "execution_count": 30,
   "id": "801aae04",
   "metadata": {
    "ExecuteTime": {
     "end_time": "2023-12-01T11:54:31.009567786Z",
     "start_time": "2023-12-01T11:54:30.929127096Z"
    }
   },
   "outputs": [
    {
     "data": {
      "text/plain": "date\n2016-12-20    52.22\n2016-12-21    51.44\n2016-12-22    51.98\n2016-12-23    52.01\n2016-12-27    52.82\n              ...  \n2017-05-09    45.84\n2017-05-10    47.28\n2017-05-11    47.81\n2017-05-12    47.83\n2017-05-15    48.86\nLength: 100, dtype: float64"
     },
     "execution_count": 30,
     "metadata": {},
     "output_type": "execute_result"
    }
   ],
   "source": [
    "price"
   ]
  },
  {
   "cell_type": "code",
   "execution_count": 37,
   "id": "44aa48a6",
   "metadata": {
    "ExecuteTime": {
     "end_time": "2023-12-01T11:55:49.535259475Z",
     "start_time": "2023-12-01T11:55:49.463101947Z"
    }
   },
   "outputs": [
    {
     "data": {
      "text/plain": "date\n2016-12-20    52.22\n2016-12-21    51.44\n2016-12-22    51.98\n2016-12-23    52.01\n2016-12-27    52.82\n              ...  \n2017-05-09    45.84\n2017-05-10    47.28\n2017-05-11    47.81\n2017-05-12    47.83\n2017-05-15    48.86\nName: Oil Prices, Length: 100, dtype: float64"
     },
     "execution_count": 37,
     "metadata": {},
     "output_type": "execute_result"
    }
   ],
   "source": [
    "price_ = oil_series \n",
    "price_"
   ]
  },
  {
   "cell_type": "code",
   "execution_count": 42,
   "id": "3f62e1ce",
   "metadata": {
    "ExecuteTime": {
     "end_time": "2023-12-01T11:57:32.994237207Z",
     "start_time": "2023-12-01T11:57:32.724419446Z"
    }
   },
   "outputs": [
    {
     "data": {
      "text/plain": "52.765"
     },
     "execution_count": 42,
     "metadata": {},
     "output_type": "execute_result"
    }
   ],
   "source": [
    "# Then, take the mean of the first 10 and last 10 prices of the series.\n",
    "first_ten = price_.iloc[:10]\n",
    "first_ten_mean = first_ten.mean()\n",
    "first_ten_mean"
   ]
  },
  {
   "cell_type": "code",
   "execution_count": 46,
   "id": "2485f044",
   "metadata": {
    "ExecuteTime": {
     "end_time": "2023-12-01T12:01:47.293014426Z",
     "start_time": "2023-12-01T12:01:47.199218265Z"
    }
   },
   "outputs": [
    {
     "data": {
      "text/plain": "date\n2017-01-03    52.36\n2017-01-04    53.26\n2017-01-05    53.77\n2017-01-06    53.98\nName: Oil Prices, dtype: float64"
     },
     "execution_count": 46,
     "metadata": {},
     "output_type": "execute_result"
    }
   ],
   "source": [
    "# Finally, grab all oil prices from January 1st, 2017 - January 7th, 2017 (inclusive) and set the index to the default integer index.\n",
    "prices_by_date  = price_.loc['2017-01-01':'2017-01-07']\n",
    "prices_by_date"
   ]
  },
  {
   "cell_type": "code",
   "execution_count": 53,
   "outputs": [
    {
     "data": {
      "text/plain": "0     52.22\n1     51.44\n2     51.98\n3     52.01\n4     52.82\n      ...  \n95    45.84\n96    47.28\n97    47.81\n98    47.83\n99    48.86\nName: Oil Prices, Length: 100, dtype: float64"
     },
     "execution_count": 53,
     "metadata": {},
     "output_type": "execute_result"
    }
   ],
   "source": [
    "price_.reset_index(drop=True)"
   ],
   "metadata": {
    "collapsed": false,
    "ExecuteTime": {
     "end_time": "2023-12-01T13:03:34.196901651Z",
     "start_time": "2023-12-01T13:03:34.029264647Z"
    }
   },
   "id": "6970fef96c2262b7"
  },
  {
   "cell_type": "markdown",
   "id": "deec0721",
   "metadata": {},
   "source": [
    "# Assignment 3: Sorting and Filtering Series\n",
    "\n",
    "* First, get the 10 lowest prices from the data. \n",
    "* Sort the 10 lowest prices by date, starting with the most recent and ending with the oldest price.\n",
    "\n",
    "* Finally, use the list of provided dates. Select only rows with these dates that had a price of less than 50 dollars per barrel."
   ]
  },
  {
   "cell_type": "code",
   "execution_count": 50,
   "id": "46126b3e",
   "metadata": {
    "ExecuteTime": {
     "end_time": "2023-12-01T13:02:47.420915268Z",
     "start_time": "2023-12-01T13:02:47.365583625Z"
    }
   },
   "outputs": [],
   "source": [
    "# list of dates to be used to solve bullet 3\n",
    "\n",
    "dates = [\n",
    "    \"2016-12-22\",\n",
    "    \"2017-05-03\",\n",
    "    \"2017-01-06\",\n",
    "    \"2017-03-05\",\n",
    "    \"2017-02-12\",\n",
    "    \"2017-03-21\",\n",
    "    \"2017-04-14\",\n",
    "    \"2017-04-15\",\n",
    "]"
   ]
  },
  {
   "cell_type": "code",
   "execution_count": 57,
   "id": "2eecaa97",
   "metadata": {
    "scrolled": false,
    "ExecuteTime": {
     "end_time": "2023-12-01T13:06:05.492337836Z",
     "start_time": "2023-12-01T13:06:05.430962734Z"
    }
   },
   "outputs": [
    {
     "data": {
      "text/plain": "date\n2017-05-04    45.55\n2017-05-09    45.84\n2017-05-05    46.23\n2017-05-08    46.46\n2017-03-23    47.00\n              ...  \n2017-02-28    54.00\n2016-12-28    54.01\n2017-02-21    54.02\n2017-02-27    54.04\n2017-02-23    54.48\nName: Oil Prices, Length: 100, dtype: float64"
     },
     "execution_count": 57,
     "metadata": {},
     "output_type": "execute_result"
    }
   ],
   "source": [
    "sorted_vals = oil_series.sort_values()\n",
    "sorted_vals"
   ]
  },
  {
   "cell_type": "code",
   "execution_count": 58,
   "id": "4864ae20",
   "metadata": {
    "ExecuteTime": {
     "end_time": "2023-12-01T13:06:46.537320624Z",
     "start_time": "2023-12-01T13:06:46.502969571Z"
    }
   },
   "outputs": [],
   "source": [
    "top_ten_vals = sorted_vals.iloc[:10]"
   ]
  },
  {
   "cell_type": "code",
   "execution_count": 60,
   "outputs": [
    {
     "data": {
      "text/plain": "date\n2017-05-10    47.28\n2017-05-09    45.84\n2017-05-08    46.46\n2017-05-05    46.23\n2017-05-04    45.55\n2017-03-27    47.02\n2017-03-23    47.00\n2017-03-22    47.29\n2017-03-21    47.02\n2017-03-14    47.24\nName: Oil Prices, dtype: float64"
     },
     "execution_count": 60,
     "metadata": {},
     "output_type": "execute_result"
    }
   ],
   "source": [
    "with_arranged_dates = top_ten_vals.sort_index(ascending=False)\n",
    "with_arranged_dates"
   ],
   "metadata": {
    "collapsed": false,
    "ExecuteTime": {
     "end_time": "2023-12-01T13:07:47.903181939Z",
     "start_time": "2023-12-01T13:07:47.878509280Z"
    }
   },
   "id": "5ace5aeccd35e373"
  },
  {
   "cell_type": "code",
   "execution_count": 63,
   "outputs": [
    {
     "data": {
      "text/plain": "date\n2017-05-10    47.28\n2017-05-09    45.84\n2017-05-08    46.46\n2017-05-05    46.23\n2017-05-04    45.55\n2017-03-27    47.02\n2017-03-23    47.00\n2017-03-22    47.29\n2017-03-21    47.02\n2017-03-14    47.24\nName: Oil Prices, dtype: float64"
     },
     "execution_count": 63,
     "metadata": {},
     "output_type": "execute_result"
    }
   ],
   "source": [
    "# At one row\n",
    "oil_series.sort_values().iloc[:10].sort_index(ascending=False)"
   ],
   "metadata": {
    "collapsed": false,
    "ExecuteTime": {
     "end_time": "2023-12-01T13:09:04.006467438Z",
     "start_time": "2023-12-01T13:09:03.939743773Z"
    }
   },
   "id": "8f74b93b236cdfef"
  },
  {
   "cell_type": "code",
   "execution_count": 65,
   "outputs": [
    {
     "data": {
      "text/plain": "date\n2017-03-21    47.02\n2017-05-03    47.79\nName: Oil Prices, dtype: float64"
     },
     "execution_count": 65,
     "metadata": {},
     "output_type": "execute_result"
    }
   ],
   "source": [
    "mask = oil_series.index.isin(dates) & (oil_series <= 50)\n",
    "oil_series.loc[mask]\n"
   ],
   "metadata": {
    "collapsed": false,
    "ExecuteTime": {
     "end_time": "2023-12-01T13:10:40.154911552Z",
     "start_time": "2023-12-01T13:10:40.056986349Z"
    }
   },
   "id": "ebfc7d853f8c8fdd"
  },
  {
   "cell_type": "markdown",
   "id": "ce362e59",
   "metadata": {},
   "source": [
    "\n",
    "# Assignment 4: Series Operations\n",
    "\n",
    "* Increase the prices in the oil series by 10%, and add an additional 2 dollars per barrel on top of that.\n",
    "\n",
    "* Then, create a series that represents the difference between each price and max price.\n",
    "\n",
    "* Finally, extract the month from the string dates in the index and store them as an integer in their own series."
   ]
  },
  {
   "cell_type": "code",
   "execution_count": null,
   "id": "38305859",
   "metadata": {},
   "outputs": [],
   "source": []
  },
  {
   "cell_type": "code",
   "execution_count": null,
   "id": "0f92574f",
   "metadata": {},
   "outputs": [],
   "source": []
  },
  {
   "cell_type": "code",
   "execution_count": null,
   "id": "98b673c0",
   "metadata": {},
   "outputs": [],
   "source": []
  },
  {
   "cell_type": "code",
   "execution_count": null,
   "id": "0cbd5306",
   "metadata": {},
   "outputs": [],
   "source": []
  },
  {
   "cell_type": "code",
   "execution_count": null,
   "id": "0836c719",
   "metadata": {},
   "outputs": [],
   "source": []
  },
  {
   "cell_type": "code",
   "execution_count": null,
   "id": "fb8eac50",
   "metadata": {},
   "outputs": [],
   "source": []
  },
  {
   "cell_type": "markdown",
   "id": "4735ed48",
   "metadata": {},
   "source": [
    "# Assignment 5: Series Aggregations\n",
    "\n",
    "* Calculate the sum and mean of prices in the month of March. \n",
    "\n",
    "* Next, calculate how many prices were recorded in January and February.\n",
    "\n",
    "* Then, calculate the 10th and 90th percentiles across all data.\n",
    "\n",
    "* Finally, how often did integer dollar value (e.g. 51, 52) occur in the data? Normalize this to a percentage.   "
   ]
  },
  {
   "cell_type": "code",
   "execution_count": null,
   "id": "b7846132",
   "metadata": {},
   "outputs": [],
   "source": []
  },
  {
   "cell_type": "code",
   "execution_count": null,
   "id": "2d0ea594",
   "metadata": {},
   "outputs": [],
   "source": []
  },
  {
   "cell_type": "code",
   "execution_count": null,
   "id": "d220d35d",
   "metadata": {},
   "outputs": [],
   "source": []
  },
  {
   "cell_type": "code",
   "execution_count": null,
   "id": "a5082d8f",
   "metadata": {},
   "outputs": [],
   "source": []
  },
  {
   "cell_type": "code",
   "execution_count": null,
   "id": "fdbd3f03",
   "metadata": {},
   "outputs": [],
   "source": []
  },
  {
   "cell_type": "markdown",
   "id": "b81e8ab9",
   "metadata": {},
   "source": [
    "# Assignment 6: Missing Data\n",
    "\n",
    "There were some erroneous prices in our data, so they were filled in with missing values.\n",
    "\n",
    "Can you confirm the number of missing values in the price column? \n",
    "\n",
    "Once you’ve done that, fill the prices in with the median of the oil price series.\n"
   ]
  },
  {
   "cell_type": "code",
   "execution_count": null,
   "id": "6d5fdec5",
   "metadata": {
    "scrolled": true
   },
   "outputs": [],
   "source": [
    "# Fill in two values with missing data\n",
    "\n",
    "oil_series = oil_series.where(~oil_series.isin([51.44, 47.83]), pd.NA)"
   ]
  },
  {
   "cell_type": "code",
   "execution_count": null,
   "id": "4c9fc3a5",
   "metadata": {},
   "outputs": [],
   "source": []
  },
  {
   "cell_type": "code",
   "execution_count": null,
   "id": "1ec16104",
   "metadata": {
    "scrolled": true
   },
   "outputs": [],
   "source": [
    "\n"
   ]
  },
  {
   "cell_type": "markdown",
   "id": "19a0e70c",
   "metadata": {},
   "source": [
    "# Exercise 7: Apply and Where\n",
    "\n",
    "Write a function that outputs ‘buy’ if price is less than the 90th percentile and ‘wait’ if it’s not. Apply it to the oil series.\n",
    "\n",
    "Then, create a series that multiplies price by .9 if the date is ‘2016-12-23’ or ‘2017-05-10’, and 1.1 for all other dates. "
   ]
  },
  {
   "cell_type": "code",
   "execution_count": null,
   "id": "e508687c",
   "metadata": {},
   "outputs": [],
   "source": []
  },
  {
   "cell_type": "code",
   "execution_count": null,
   "id": "3496ec24",
   "metadata": {},
   "outputs": [],
   "source": []
  },
  {
   "cell_type": "code",
   "execution_count": null,
   "id": "feab5b7d",
   "metadata": {},
   "outputs": [],
   "source": []
  },
  {
   "cell_type": "code",
   "execution_count": null,
   "id": "6e9ec561",
   "metadata": {},
   "outputs": [],
   "source": []
  }
 ],
 "metadata": {
  "kernelspec": {
   "display_name": "Python 3 (ipykernel)",
   "language": "python",
   "name": "python3"
  },
  "language_info": {
   "codemirror_mode": {
    "name": "ipython",
    "version": 3
   },
   "file_extension": ".py",
   "mimetype": "text/x-python",
   "name": "python",
   "nbconvert_exporter": "python",
   "pygments_lexer": "ipython3",
   "version": "3.9.7"
  }
 },
 "nbformat": 4,
 "nbformat_minor": 5
}
